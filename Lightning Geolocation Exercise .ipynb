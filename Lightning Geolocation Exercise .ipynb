{
 "cells": [
  {
   "cell_type": "code",
   "execution_count": 98,
   "metadata": {},
   "outputs": [],
   "source": [
    "import numpy as np\n",
    "import matplotlib.pyplot as plt\n",
    "from scipy import constants, optimize\n",
    "from pyproj import geod\n",
    "import pickle\n",
    "\n",
    "# Load the node config dictionary this contains information about the nodes\n",
    "# (receivers) position and name\n",
    "node_config = np.load(\"node_config_fixed.npy\", allow_pickle=True)\n",
    "\n",
    "# Now load in waveforms\n",
    "waveforms = np.load(\"exported_waveforms.npy\", allow_pickle=True)\n",
    "\n",
    "# For each waveform the following variables are available\n",
    "# envelope      : The magnitude of the waveform envelope with time\n",
    "# FT            : The Fast fourier transform of samples\n",
    "# FT_recon      : The Fast fourire transform of the reconstructed time series\n",
    "# node_unique_id: A 17 character unique identifier for a node\n",
    "# peak_index    : The index in the raw data stream that the peak in envelope resides\n",
    "# prod_time     : The time the waveform was extracted\n",
    "# raw_data      : The raw time series the waveform was extracted from that has been high pass filtered at 1kHz\n",
    "# recon_data    : The reconstructed complex time series the waveform was extracted from same as reconstructed samples\n",
    "# samples       : The real part of extracted waveform\n",
    "# site_name     : Name of site waveform was recorded at\n",
    "# t1            : The sum of samples ^ 2\n",
    "# tdv_penalty   : A time difference variance penalty \n",
    "# timestamp     : np.datetime64 object which contains the timestamp at index 256 of samples, envelope, raw_data and recon_data\n",
    "\n",
    "# The sampling resolution of LEELA is 9.142 us\n",
    "\n"
   ]
  },
  {
   "cell_type": "code",
   "execution_count": 271,
   "metadata": {
    "scrolled": false
   },
   "outputs": [],
   "source": [
    "df_waveforms = pd.DataFrame(waveforms)\n",
    "seven = waveforms[7]\n",
    "three = waveforms[0]\n",
    "\n"
   ]
  },
  {
   "cell_type": "code",
   "execution_count": 261,
   "metadata": {
    "scrolled": true
   },
   "outputs": [
    {
     "name": "stdout",
     "output_type": "stream",
     "text": [
      "Watnall 918 1.6962697486405112e+18 1696269748634597285\n",
      "Herstmonceux 927 1.6962697486405112e+18 1696269748634775093\n",
      "Camborne 183 1.6962697486405112e+18 1696269748635404467\n",
      "Cabauw 630 1.6962697486405112e+18 1696269748635628839\n",
      "Lerwick 1000 1.6962697486405112e+18 1696269748637255809\n",
      "Gibraltar 863 1.6962697486405112e+18 1696269748640214362\n",
      "Tartu 181 1.6962697486405112e+18 1696269748640511339\n"
     ]
    },
    {
     "data": {
      "image/png": "[encoded data removed]",
      "text/plain": [
       "<Figure size 432x288 with 7 Axes>"
      ]
     },
     "metadata": {
      "needs_background": "light"
     },
     "output_type": "display_data"
    },
    {
     "data": {
      "text/plain": [
       "[['Watnall', 0.0],\n",
       " ['Herstmonceux', 8.227799999999987e-05],\n",
       " ['Camborne', -0.0067193700000000006],\n",
       " ['Cabauw', -0.002632896],\n",
       " ['Lerwick', 0.000749643999999999],\n",
       " ['Gibraltar', -0.0005028099999999994],\n",
       " ['Tartu', -0.006737654]]"
      ]
     },
     "execution_count": 261,
     "metadata": {},
     "output_type": "execute_result"
    }
   ],
   "source": [
    "fig, axs = plt.subplots(7, 1)\n",
    "\n",
    "# Define sampling frequency\n",
    "fs = 9.142e-6 \n",
    "\n",
    "# Finding the difference in time between the peak_index and index of timestamp\n",
    "reference_peak_time = (waveforms[0]['peak_index'])*9.142e-6\n",
    "\n",
    "# Define reference timestamp using first node\n",
    "#reference_peaktime = waveforms[0]['timestamp'].item()+reference_peak_difference \n",
    "timedeltas = []\n",
    "# Loop over each node\n",
    "for i in range(len(waveforms)-1):\n",
    "    \n",
    "    peak_time = (waveforms[i]['peak_index'])*9.142e-6\n",
    "    \n",
    "    #peaktime = waveforms[i]['timestamp'].item()+peak_difference\n",
    "    \n",
    "    # Extract data for current node\n",
    "    data = waveforms[i]\n",
    "    \n",
    "    print(data['site_name'], data['peak_index'], peaktime, data['timestamp'].item())\n",
    "    \n",
    "    # Create time vector for plotting data\n",
    "    time = np.arange(len(data['samples']))*fs\n",
    "    \n",
    "    # Find timedelta between current node and reference\n",
    "    timedelta = peak_time - reference_peak_time\n",
    "    \n",
    "    # Append timedelta to timedeltas\n",
    "    timedeltas.append([data['site_name'], timedelta.item()])\n",
    "    \n",
    "    # Offset time vector by timedelta\n",
    "    time += timedelta.item()*10**-9\n",
    "    \n",
    "    \n",
    "    # Define current axis\n",
    "    ax = axs[i]\n",
    "    \n",
    "    # Plot waveform on figure, label each trace with the node name\n",
    "    ax.plot(time, data['samples'], label = data['site_name'])\n",
    "\n",
    "# Display legend on figure\n",
    "\n",
    "\n",
    "plt.legend()\n",
    "plt.show()\n",
    "timedeltas"
   ]
  },
  {
   "cell_type": "code",
   "execution_count": 266,
   "metadata": {
    "scrolled": true
   },
   "outputs": [
    {
     "data": {
      "text/plain": [
       "34.585925"
      ]
     },
     "execution_count": 266,
     "metadata": {},
     "output_type": "execute_result"
    }
   ],
   "source": [
    "nodes = node_config.item()\n",
    "df_nodes = pd.DataFrame(nodes)\n",
    "positions = df_nodes.loc[[\"Position\",\"Site\"]]\n",
    "\n",
    "nodes['569218Q0B0024002A']['Position']['lat']\n"
   ]
  },
  {
   "cell_type": "code",
   "execution_count": 203,
   "metadata": {
    "collapsed": true
   },
   "outputs": [
    {
     "ename": "NameError",
     "evalue": "name 'd_GA' is not defined",
     "output_type": "error",
     "traceback": [
      "\u001b[1;31m---------------------------------------------------------------------------\u001b[0m",
      "\u001b[1;31mNameError\u001b[0m                                 Traceback (most recent call last)",
      "\u001b[1;32m<ipython-input-203-c6fa456b85cc>\u001b[0m in \u001b[0;36m<module>\u001b[1;34m\u001b[0m\n\u001b[0;32m      6\u001b[0m \u001b[1;33m\u001b[0m\u001b[0m\n\u001b[0;32m      7\u001b[0m \u001b[0mv_p\u001b[0m\u001b[1;33m=\u001b[0m\u001b[1;36m1.00425\u001b[0m\u001b[1;33m*\u001b[0m\u001b[1;36m2.99792458\u001b[0m\u001b[1;33m*\u001b[0m\u001b[1;36m10\u001b[0m\u001b[1;33m**\u001b[0m\u001b[1;36m8\u001b[0m\u001b[1;33m\u001b[0m\u001b[1;33m\u001b[0m\u001b[0m\n\u001b[1;32m----> 8\u001b[1;33m \u001b[0md_GA\u001b[0m\u001b[1;33m\u001b[0m\u001b[1;33m\u001b[0m\u001b[0m\n\u001b[0m\u001b[0;32m      9\u001b[0m \u001b[1;33m\u001b[0m\u001b[0m\n\u001b[0;32m     10\u001b[0m \u001b[1;32mdef\u001b[0m \u001b[0mTATD\u001b[0m\u001b[1;33m(\u001b[0m\u001b[0md_GA\u001b[0m\u001b[1;33m,\u001b[0m \u001b[0md_GB\u001b[0m\u001b[1;33m,\u001b[0m \u001b[0mv_p\u001b[0m\u001b[1;33m)\u001b[0m\u001b[1;33m:\u001b[0m\u001b[1;33m\u001b[0m\u001b[1;33m\u001b[0m\u001b[0m\n",
      "\u001b[1;31mNameError\u001b[0m: name 'd_GA' is not defined"
     ]
    }
   ],
   "source": [
    "# Equation 2 \n",
    "\n",
    "# v_p = phase propagation velocity\n",
    "# d_GA = distance between the guess G and point A\n",
    "# d_GB = distance between the guess G and point B\n",
    "\n",
    "v_p=1.00425*2.99792458*10**8 \n",
    "d_GA\n",
    "\n",
    "def TATD(d_GA, d_GB, v_p):\n",
    "    return abs(d_GA) / v_p - abs(d_GB) / v_p\n"
   ]
  },
  {
   "cell_type": "code",
   "execution_count": 30,
   "metadata": {},
   "outputs": [],
   "source": [
    "# Equation 1\n",
    "\n",
    "# TATD = Theoretical arrival time difference \n",
    "# OATD = Observed arrival time difference \n",
    "\n",
    "def RES(TATD, OATD, sigma, N):\n",
    "    return np.sqrt(1/(N-2) * np.sum((TATD - OATD)**2 / sigma**2))"
   ]
  },
  {
   "cell_type": "code",
   "execution_count": null,
   "metadata": {},
   "outputs": [],
   "source": []
  },
  {
   "cell_type": "code",
   "execution_count": 193,
   "metadata": {},
   "outputs": [
    {
     "data": {
      "text/plain": [
       "-130.99759611667753"
      ]
     },
     "execution_count": 193,
     "metadata": {},
     "output_type": "execute_result"
    }
   ],
   "source": [
    "#Geod function\n",
    "\n",
    "from pyproj import Geod\n",
    "\n",
    "# Define a Geod object\n",
    "geod = Geod(ellps='WGS84')\n",
    "\n",
    "# Calculate forward and backward azimuths and distance from two points\n",
    "fwd_azimuth, back_azimuth, distance = geod.inv(0, 0, 32.990287, 34.585925)\n"
   ]
  },
  {
   "cell_type": "code",
   "execution_count": 191,
   "metadata": {},
   "outputs": [
    {
     "data": {
      "text/plain": [
       "38.46438549391419"
      ]
     },
     "execution_count": 191,
     "metadata": {},
     "output_type": "execute_result"
    }
   ],
   "source": []
  },
  {
   "cell_type": "code",
   "execution_count": 228,
   "metadata": {},
   "outputs": [
    {
     "name": "stdout",
     "output_type": "stream",
     "text": [
      "The minimum value of f(x, y) is 1.705780445775116e-16 and is achieved at x = 0.9999999941591433, y = 1.9999999883182862\n"
     ]
    }
   ],
   "source": [
    "from scipy.optimize import minimize\n",
    "\n",
    "# Define the function to be minimized\n",
    "def f(x):\n",
    "    \n",
    "    \n",
    "    \n",
    "    \n",
    "    \n",
    "    \n",
    "    \n",
    "    \n",
    "    \n",
    "    \n",
    "    # Define a Geod object\n",
    "geod = Geod(ellps='WGS84')\n",
    "\n",
    "# Calculate forward and backward azimuths and distance from two points\n",
    "fwd_azimuth, back_azimuth, distance = geod.inv(0, 0, 32.990287, 34.585925)\n",
    "\n",
    "def TATD(d_GA, d_GB, v_p):\n",
    "    \n",
    "    return abs(d_GA) / v_p - abs(d_GB) / v_p\n",
    "\n",
    "\n",
    "def RES(TATD, OATD, sigma, N):\n",
    "    return np.sqrt(1/(N-2) * np.sum((TATD - OATD)**2 / sigma**2))\n",
    "\n",
    "\n",
    "    return RES \n",
    "\n",
    "# Initial guess for x and y\n",
    "x0 = [0, 0]\n",
    "\n",
    "# Call minimize\n",
    "result = minimize(f, x0)\n",
    "\n",
    "# Print the result\n",
    "print(f\"The minimum value of f(x, y) is {result.fun} and is achieved at x = {result.x[0]}, y = {result.x[1]}\")"
   ]
  },
  {
   "cell_type": "code",
   "execution_count": 1,
   "metadata": {},
   "outputs": [
    {
     "ename": "KeyError",
     "evalue": "'location'",
     "output_type": "error",
     "traceback": [
      "\u001b[1;31m---------------------------------------------------------------------------\u001b[0m",
      "\u001b[1;31mKeyError\u001b[0m                                  Traceback (most recent call last)",
      "\u001b[1;32m<ipython-input-1-2041a07c64a6>\u001b[0m in \u001b[0;36m<module>\u001b[1;34m\u001b[0m\n\u001b[0;32m     27\u001b[0m \u001b[1;33m\u001b[0m\u001b[0m\n\u001b[0;32m     28\u001b[0m \u001b[1;31m# Get the node locations\u001b[0m\u001b[1;33m\u001b[0m\u001b[1;33m\u001b[0m\u001b[1;33m\u001b[0m\u001b[0m\n\u001b[1;32m---> 29\u001b[1;33m \u001b[0mnode_locations\u001b[0m \u001b[1;33m=\u001b[0m \u001b[1;33m[\u001b[0m\u001b[0mnode_config\u001b[0m\u001b[1;33m[\u001b[0m\u001b[0mnode_id\u001b[0m\u001b[1;33m]\u001b[0m\u001b[1;33m[\u001b[0m\u001b[1;34m\"location\"\u001b[0m\u001b[1;33m]\u001b[0m \u001b[1;32mfor\u001b[0m \u001b[0mnode_id\u001b[0m \u001b[1;32min\u001b[0m \u001b[0mnode_config\u001b[0m\u001b[1;33m]\u001b[0m\u001b[1;33m\u001b[0m\u001b[1;33m\u001b[0m\u001b[0m\n\u001b[0m\u001b[0;32m     30\u001b[0m \u001b[1;33m\u001b[0m\u001b[0m\n\u001b[0;32m     31\u001b[0m \u001b[1;31m# Use the minimisation function to get the position of the lightning strike\u001b[0m\u001b[1;33m\u001b[0m\u001b[1;33m\u001b[0m\u001b[1;33m\u001b[0m\u001b[0m\n",
      "\u001b[1;32m<ipython-input-1-2041a07c64a6>\u001b[0m in \u001b[0;36m<listcomp>\u001b[1;34m(.0)\u001b[0m\n\u001b[0;32m     27\u001b[0m \u001b[1;33m\u001b[0m\u001b[0m\n\u001b[0;32m     28\u001b[0m \u001b[1;31m# Get the node locations\u001b[0m\u001b[1;33m\u001b[0m\u001b[1;33m\u001b[0m\u001b[1;33m\u001b[0m\u001b[0m\n\u001b[1;32m---> 29\u001b[1;33m \u001b[0mnode_locations\u001b[0m \u001b[1;33m=\u001b[0m \u001b[1;33m[\u001b[0m\u001b[0mnode_config\u001b[0m\u001b[1;33m[\u001b[0m\u001b[0mnode_id\u001b[0m\u001b[1;33m]\u001b[0m\u001b[1;33m[\u001b[0m\u001b[1;34m\"location\"\u001b[0m\u001b[1;33m]\u001b[0m \u001b[1;32mfor\u001b[0m \u001b[0mnode_id\u001b[0m \u001b[1;32min\u001b[0m \u001b[0mnode_config\u001b[0m\u001b[1;33m]\u001b[0m\u001b[1;33m\u001b[0m\u001b[1;33m\u001b[0m\u001b[0m\n\u001b[0m\u001b[0;32m     30\u001b[0m \u001b[1;33m\u001b[0m\u001b[0m\n\u001b[0;32m     31\u001b[0m \u001b[1;31m# Use the minimisation function to get the position of the lightning strike\u001b[0m\u001b[1;33m\u001b[0m\u001b[1;33m\u001b[0m\u001b[1;33m\u001b[0m\u001b[0m\n",
      "\u001b[1;31mKeyError\u001b[0m: 'location'"
     ]
    }
   ],
   "source": [
    "import numpy as np\n",
    "import pyproj\n",
    "from scipy.optimize import minimize\n",
    "\n",
    "# Load the data\n",
    "node_config = np.load(\"node_config_fixed.npy\", allow_pickle=True).item()\n",
    "waveforms = np.load(\"exported_waveforms.npy\", allow_pickle=True)\n",
    "\n",
    "# Define the functions for the equations\n",
    "def equation1(params, *args):\n",
    "    # Your implementation here\n",
    "    pass\n",
    "\n",
    "def equation2(params, *args):\n",
    "    # Your implementation here\n",
    "    pass\n",
    "\n",
    "# Define the minimisation function\n",
    "def minimisation_function(equation, ATDs, node_locations):\n",
    "    initial_guess = [0, 0]  # replace with your initial guess for latitude and longitude\n",
    "    result = minimize(equation, initial_guess, args=(ATDs, node_locations))\n",
    "    return result.x  # this will be an array with the latitude and longitude\n",
    "\n",
    "# Calculate ATDs\n",
    "reference_waveform = waveforms[0]  # replace with your reference waveform\n",
    "ATDs = [waveform[\"timestamp\"] - reference_waveform[\"timestamp\"] for waveform in waveforms]\n",
    "\n",
    "# Get the node locations\n",
    "node_locations = [node_config[node_id][\"location\"] for node_id in node_config]\n",
    "\n",
    "# Use the minimisation function to get the position of the lightning strike\n",
    "lightning_position = minimisation_function(equation1, ATDs, node_locations)"
   ]
  },
  {
   "cell_type": "code",
   "execution_count": null,
   "metadata": {},
   "outputs": [],
   "source": [
    "import numpy as np\n",
    "from scipy.optimize import minimize\n",
    "from pyproj import Geod\n",
    "\n",
    "def TATD(node_loc, strike_loc, vp):\n",
    "    geod = Geod(ellps='WGS84')\n",
    "    _, _, dist_GA = geod.inv(node_loc[0], node_loc[1], strike_loc[0], strike_loc[1])\n",
    "    _, _, dist_GB = geod.inv(node_loc[0], node_loc[1], 0, 0)\n",
    "    return abs(dist_GA / vp) - abs(dist_GB / vp)\n",
    "\n",
    "def RES(params, ATDs, node_locs, vp):\n",
    "    N = len(ATDs)\n",
    "    strike_loc = params\n",
    "    TATDs = [TATD(node_loc, strike_loc, vp) for node_loc in node_locs]\n",
    "    return np.sqrt(1 / (N - 2) * sum((TATD - OATD)**2 / sigma**2 for TATD, OATD, sigma in zip(TATDs, ATDs, sigmas)))\n",
    "\n",
    "def minimize_RES(ATDs, node_locs, vp):\n",
    "    initial_guess = [0, 0]\n",
    "    result = minimize(RES, initial_guess, args=(ATDs, node_locs, vp))\n",
    "    return result.x\n",
    "\n",
    "node_config = np.load('node_config_fixed.npy', allow_pickle=True).item()\n",
    "exported_waveforms = np.load('exported_waveforms.npy', allow_pickle=True)\n",
    "\n",
    "node_locs = [node_config[node_id]['location'] for node_id in exported_waveforms.keys()]\n",
    "vp = 300000 # Speed of light in km/s\n",
    "\n",
    "# Calculate ATDs\n",
    "timestamps = [waveform['timestamp'] for waveform in exported_waveforms.values()]\n",
    "reference_timestamp = timestamps[0]\n",
    "ATDs = [timestamp - reference_timestamp for timestamp in timestamps]\n",
    "\n",
    "# Minimize RES to find lightning strike location\n",
    "strike_loc = minimize_RES(ATDs, node_locs, vp)\n",
    "print(f'The lightning strike occurred at {strike_loc}')"
   ]
  }
 ],
 "metadata": {
  "kernelspec": {
   "display_name": "Python 3",
   "language": "python",
   "name": "python3"
  },
  "language_info": {
   "codemirror_mode": {
    "name": "ipython",
    "version": 3
   },
   "file_extension": ".py",
   "mimetype": "text/x-python",
   "name": "python",
   "nbconvert_exporter": "python",
   "pygments_lexer": "ipython3",
   "version": "3.8.3"
  }
 },
 "nbformat": 4,
 "nbformat_minor": 4
}
