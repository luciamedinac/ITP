{
 "cells": [
  {
   "cell_type": "code",
   "execution_count": 17,
   "metadata": {
    "scrolled": false
   },
   "outputs": [],
   "source": [
    "import numpy as np\n",
    "import matplotlib.pyplot as plt\n",
    "from scipy import constants, optimize, signal\n",
    "from pyproj import Geod\n",
    "from scipy.optimize import minimize\n",
    "import os\n",
    "import glob\n",
    "import datetime\n",
    "import pandas as pd"
   ]
  },
  {
   "cell_type": "code",
   "execution_count": 27,
   "metadata": {},
   "outputs": [
    {
     "name": "stdout",
     "output_type": "stream",
     "text": [
      "File Path      C:\\\\Users\\\\ojhan\\\\OneDrive\\\\Documents\\\\Physics...\n",
      "Meteor Date                                             20230213\n",
      "Start time                                   2023-02-13T02:59:08\n",
      "End time                                     2023-02-13T02:59:20\n",
      "Latitude                                                   53.28\n",
      "Longitude                                                  -2.29\n",
      "Ref Time                                     2023-02-13T02:59:13\n",
      "Name: 0, dtype: object\n",
      "File Path      C:\\\\Users\\\\ojhan\\\\OneDrive\\\\Documents\\\\Physics...\n",
      "Meteor Date                                             20230924\n",
      "Start time                                   2023-09-24T01:32:15\n",
      "End time                                     2023-09-24T01:32:30\n",
      "Latitude                                                   52.02\n",
      "Longitude                                                  -3.18\n",
      "Ref Time                                     2023-09-24T01:32:19\n",
      "Name: 1, dtype: object\n",
      "File Path      C:\\\\Users\\\\ojhan\\\\OneDrive\\\\Documents\\\\Physics...\n",
      "Meteor Date                                             20230131\n",
      "Start time                                   2023-01-31T00:01:12\n",
      "End time                                     2023-01-31T00:01:24\n",
      "Latitude                                                   51.59\n",
      "Longitude                                                  -1.37\n",
      "Ref Time                                     2023-01-31T00:01:18\n",
      "Name: 2, dtype: object\n",
      "File Path      C:\\\\Users\\\\ojhan\\\\OneDrive\\\\Documents\\\\Physics...\n",
      "Meteor Date                                             20240103\n",
      "Start time                                   2024-01-03T23:50:15\n",
      "End time                                     2024-01-03T23:50:27\n",
      "Latitude                                                   51.71\n",
      "Longitude                                                  -5.66\n",
      "Ref Time                                 2024-01-03T23:50:21 ish\n",
      "Name: 3, dtype: object\n"
     ]
    }
   ],
   "source": [
    "fireballs = pd.read_excel(\"Fireball_times.xlsx\")\n",
    "fireballs.dropna(inplace=True)\n",
    "for f in range(len(fireballs)):\n",
    "\n",
    "    fireball = fireballs.iloc[f]    \n",
    "    print(fireball)\n",
    "    \n",
    "    \n",
    " "
   ]
  },
  {
   "cell_type": "code",
   "execution_count": 30,
   "metadata": {},
   "outputs": [
    {
     "name": "stdout",
     "output_type": "stream",
     "text": [
      "Reading: C:\\\\Users\\\\ojhan\\\\OneDrive\\\\Documents\\\\PhysicsProject\\\\13-02-2023\\Akrotiri_569218Q0B0024002A.202302130259.npy\n",
      "Reading: C:\\\\Users\\\\ojhan\\\\OneDrive\\\\Documents\\\\PhysicsProject\\\\13-02-2023\\Akrotiri_569218Q0B0024002A.202302130300.npy\n",
      "Reading: C:\\\\Users\\\\ojhan\\\\OneDrive\\\\Documents\\\\PhysicsProject\\\\13-02-2023\\Akrotiri_569218Q0B0024002A.202302131710.npy\n",
      "Reading: C:\\\\Users\\\\ojhan\\\\OneDrive\\\\Documents\\\\PhysicsProject\\\\13-02-2023\\Akrotiri_569218Q0B0024002A.202302131711.npy\n",
      "Reading: C:\\\\Users\\\\ojhan\\\\OneDrive\\\\Documents\\\\PhysicsProject\\\\13-02-2023\\Cabauw_569218Q0B003D003E.202302130259.npy\n",
      "Reading: C:\\\\Users\\\\ojhan\\\\OneDrive\\\\Documents\\\\PhysicsProject\\\\13-02-2023\\Cabauw_569218Q0B003D003E.202302130300.npy\n",
      "Reading: C:\\\\Users\\\\ojhan\\\\OneDrive\\\\Documents\\\\PhysicsProject\\\\13-02-2023\\Cabauw_569218Q0B003D003E.202302131710.npy\n",
      "Reading: C:\\\\Users\\\\ojhan\\\\OneDrive\\\\Documents\\\\PhysicsProject\\\\13-02-2023\\Cabauw_569218Q0B003D003E.202302131711.npy\n",
      "Reading: C:\\\\Users\\\\ojhan\\\\OneDrive\\\\Documents\\\\PhysicsProject\\\\13-02-2023\\Camborne_569218Q0B0025002A.202302130259.npy\n",
      "Reading: C:\\\\Users\\\\ojhan\\\\OneDrive\\\\Documents\\\\PhysicsProject\\\\13-02-2023\\Camborne_569218Q0B0025002A.202302130300.npy\n",
      "Reading: C:\\\\Users\\\\ojhan\\\\OneDrive\\\\Documents\\\\PhysicsProject\\\\13-02-2023\\Camborne_569218Q0B0025002A.202302131710.npy\n",
      "Reading: C:\\\\Users\\\\ojhan\\\\OneDrive\\\\Documents\\\\PhysicsProject\\\\13-02-2023\\Camborne_569218Q0B0025002A.202302131711.npy\n",
      "Reading: C:\\\\Users\\\\ojhan\\\\OneDrive\\\\Documents\\\\PhysicsProject\\\\13-02-2023\\Keflavik_569218Q0B0027003E.202302130259.npy\n",
      "Reading: C:\\\\Users\\\\ojhan\\\\OneDrive\\\\Documents\\\\PhysicsProject\\\\13-02-2023\\Keflavik_569218Q0B0027003E.202302131710.npy\n",
      "Reading: C:\\\\Users\\\\ojhan\\\\OneDrive\\\\Documents\\\\PhysicsProject\\\\13-02-2023\\Keflavik_569218Q0B0027003E.202302131711.npy\n",
      "Reading: C:\\\\Users\\\\ojhan\\\\OneDrive\\\\Documents\\\\PhysicsProject\\\\13-02-2023\\Lerwick_569218Q0B0019002A.202302130259.npy\n",
      "Reading: C:\\\\Users\\\\ojhan\\\\OneDrive\\\\Documents\\\\PhysicsProject\\\\13-02-2023\\Lerwick_569218Q0B0019002A.202302130300.npy\n",
      "Reading: C:\\\\Users\\\\ojhan\\\\OneDrive\\\\Documents\\\\PhysicsProject\\\\13-02-2023\\Lerwick_569218Q0B0019002A.202302131710.npy\n",
      "Reading: C:\\\\Users\\\\ojhan\\\\OneDrive\\\\Documents\\\\PhysicsProject\\\\13-02-2023\\Lerwick_569218Q0B0019002A.202302131711.npy\n",
      "Reading: C:\\\\Users\\\\ojhan\\\\OneDrive\\\\Documents\\\\PhysicsProject\\\\13-02-2023\\Herstmonceux_569218Q0B003D002A.202302130259.npy\n",
      "Reading: C:\\\\Users\\\\ojhan\\\\OneDrive\\\\Documents\\\\PhysicsProject\\\\13-02-2023\\Herstmonceux_569218Q0B003D002A.202302130300.npy\n",
      "Reading: C:\\\\Users\\\\ojhan\\\\OneDrive\\\\Documents\\\\PhysicsProject\\\\13-02-2023\\Herstmonceux_569218Q0B003D002A.202302131710.npy\n",
      "Reading: C:\\\\Users\\\\ojhan\\\\OneDrive\\\\Documents\\\\PhysicsProject\\\\13-02-2023\\Herstmonceux_569218Q0B003D002A.202302131711.npy\n",
      "Reading: C:\\\\Users\\\\ojhan\\\\OneDrive\\\\Documents\\\\PhysicsProject\\\\13-02-2023\\Payerne_569218Q0B00170029.202302130259.npy\n",
      "Reading: C:\\\\Users\\\\ojhan\\\\OneDrive\\\\Documents\\\\PhysicsProject\\\\13-02-2023\\Payerne_569218Q0B00170029.202302130300.npy\n",
      "Reading: C:\\\\Users\\\\ojhan\\\\OneDrive\\\\Documents\\\\PhysicsProject\\\\13-02-2023\\Payerne_569218Q0B00170029.202302131710.npy\n",
      "Reading: C:\\\\Users\\\\ojhan\\\\OneDrive\\\\Documents\\\\PhysicsProject\\\\13-02-2023\\Payerne_569218Q0B00170029.202302131711 - Copy.npy\n",
      "Reading: C:\\\\Users\\\\ojhan\\\\OneDrive\\\\Documents\\\\PhysicsProject\\\\13-02-2023\\Payerne_569218Q0B00170029.202302131711.npy\n",
      "Reading: C:\\\\Users\\\\ojhan\\\\OneDrive\\\\Documents\\\\PhysicsProject\\\\13-02-2023\\Tartu_569218Q0B0036003F.202302130259.npy\n",
      "Reading: C:\\\\Users\\\\ojhan\\\\OneDrive\\\\Documents\\\\PhysicsProject\\\\13-02-2023\\Tartu_569218Q0B0036003F.202302130300.npy\n",
      "Reading: C:\\\\Users\\\\ojhan\\\\OneDrive\\\\Documents\\\\PhysicsProject\\\\13-02-2023\\Tartu_569218Q0B0036003F.202302131710.npy\n",
      "Reading: C:\\\\Users\\\\ojhan\\\\OneDrive\\\\Documents\\\\PhysicsProject\\\\13-02-2023\\Tartu_569218Q0B0036003F.202302131711.npy\n",
      "Reading: C:\\\\Users\\\\ojhan\\\\OneDrive\\\\Documents\\\\PhysicsProject\\\\13-02-2023\\Watnall_569218Q0B001D0029.202302130259.npy\n",
      "Reading: C:\\\\Users\\\\ojhan\\\\OneDrive\\\\Documents\\\\PhysicsProject\\\\13-02-2023\\Watnall_569218Q0B001D0029.202302130300.npy\n",
      "Reading: C:\\\\Users\\\\ojhan\\\\OneDrive\\\\Documents\\\\PhysicsProject\\\\13-02-2023\\Watnall_569218Q0B001D0029.202302131710.npy\n",
      "Reading: C:\\\\Users\\\\ojhan\\\\OneDrive\\\\Documents\\\\PhysicsProject\\\\13-02-2023\\Watnall_569218Q0B001D0029.202302131711.npy\n",
      "data loaded\n",
      "Processing: 2023-02-13T02:59:08.000\n"
     ]
    },
    {
     "name": "stderr",
     "output_type": "stream",
     "text": [
      "<ipython-input-30-48b37abd0d66>:181: UserWarning: Only one segment is calculated since parameter NFFT (=256) >= signal length (=0).\n",
      "  spec = axs[site_count, 1].specgram(filtered_samples, Fs=1/9.142e-6, cmap ='rainbow' ,vmin=-100, vmax=0)\n",
      "c:\\Users\\ojhan\\anaconda3\\lib\\site-packages\\matplotlib\\axes\\_axes.py:7592: RuntimeWarning: divide by zero encountered in log10\n",
      "  Z = 10. * np.log10(spec)\n",
      "<ipython-input-30-48b37abd0d66>:181: UserWarning: Only one segment is calculated since parameter NFFT (=256) >= signal length (=0).\n",
      "  spec = axs[site_count, 1].specgram(filtered_samples, Fs=1/9.142e-6, cmap ='rainbow' ,vmin=-100, vmax=0)\n",
      "c:\\Users\\ojhan\\anaconda3\\lib\\site-packages\\matplotlib\\axes\\_axes.py:7592: RuntimeWarning: divide by zero encountered in log10\n",
      "  Z = 10. * np.log10(spec)\n"
     ]
    },
    {
     "name": "stdout",
     "output_type": "stream",
     "text": [
      "Saving figure: Spectograms\\2023-02-13T025908\\1000 milliseconds2023-02-13T025908.png\n",
      "Processing: 2023-02-13T02:59:09.000\n"
     ]
    },
    {
     "name": "stderr",
     "output_type": "stream",
     "text": [
      "<ipython-input-30-48b37abd0d66>:181: UserWarning: Only one segment is calculated since parameter NFFT (=256) >= signal length (=0).\n",
      "  spec = axs[site_count, 1].specgram(filtered_samples, Fs=1/9.142e-6, cmap ='rainbow' ,vmin=-100, vmax=0)\n",
      "c:\\Users\\ojhan\\anaconda3\\lib\\site-packages\\matplotlib\\axes\\_axes.py:7592: RuntimeWarning: divide by zero encountered in log10\n",
      "  Z = 10. * np.log10(spec)\n",
      "<ipython-input-30-48b37abd0d66>:181: UserWarning: Only one segment is calculated since parameter NFFT (=256) >= signal length (=0).\n",
      "  spec = axs[site_count, 1].specgram(filtered_samples, Fs=1/9.142e-6, cmap ='rainbow' ,vmin=-100, vmax=0)\n",
      "c:\\Users\\ojhan\\anaconda3\\lib\\site-packages\\matplotlib\\axes\\_axes.py:7592: RuntimeWarning: divide by zero encountered in log10\n",
      "  Z = 10. * np.log10(spec)\n"
     ]
    },
    {
     "name": "stdout",
     "output_type": "stream",
     "text": [
      "Saving figure: Spectograms\\2023-02-13T025908\\1000 milliseconds2023-02-13T025909.png\n",
      "Processing: 2023-02-13T02:59:10.000\n"
     ]
    },
    {
     "name": "stderr",
     "output_type": "stream",
     "text": [
      "<ipython-input-30-48b37abd0d66>:181: UserWarning: Only one segment is calculated since parameter NFFT (=256) >= signal length (=0).\n",
      "  spec = axs[site_count, 1].specgram(filtered_samples, Fs=1/9.142e-6, cmap ='rainbow' ,vmin=-100, vmax=0)\n",
      "c:\\Users\\ojhan\\anaconda3\\lib\\site-packages\\matplotlib\\axes\\_axes.py:7592: RuntimeWarning: divide by zero encountered in log10\n",
      "  Z = 10. * np.log10(spec)\n",
      "<ipython-input-30-48b37abd0d66>:181: UserWarning: Only one segment is calculated since parameter NFFT (=256) >= signal length (=0).\n",
      "  spec = axs[site_count, 1].specgram(filtered_samples, Fs=1/9.142e-6, cmap ='rainbow' ,vmin=-100, vmax=0)\n",
      "c:\\Users\\ojhan\\anaconda3\\lib\\site-packages\\matplotlib\\axes\\_axes.py:7592: RuntimeWarning: divide by zero encountered in log10\n",
      "  Z = 10. * np.log10(spec)\n"
     ]
    },
    {
     "name": "stdout",
     "output_type": "stream",
     "text": [
      "Saving figure: Spectograms\\2023-02-13T025908\\1000 milliseconds2023-02-13T025910.png\n",
      "Processing: 2023-02-13T02:59:11.000\n"
     ]
    },
    {
     "name": "stderr",
     "output_type": "stream",
     "text": [
      "<ipython-input-30-48b37abd0d66>:181: UserWarning: Only one segment is calculated since parameter NFFT (=256) >= signal length (=0).\n",
      "  spec = axs[site_count, 1].specgram(filtered_samples, Fs=1/9.142e-6, cmap ='rainbow' ,vmin=-100, vmax=0)\n",
      "c:\\Users\\ojhan\\anaconda3\\lib\\site-packages\\matplotlib\\axes\\_axes.py:7592: RuntimeWarning: divide by zero encountered in log10\n",
      "  Z = 10. * np.log10(spec)\n",
      "<ipython-input-30-48b37abd0d66>:181: UserWarning: Only one segment is calculated since parameter NFFT (=256) >= signal length (=0).\n",
      "  spec = axs[site_count, 1].specgram(filtered_samples, Fs=1/9.142e-6, cmap ='rainbow' ,vmin=-100, vmax=0)\n",
      "c:\\Users\\ojhan\\anaconda3\\lib\\site-packages\\matplotlib\\axes\\_axes.py:7592: RuntimeWarning: divide by zero encountered in log10\n",
      "  Z = 10. * np.log10(spec)\n"
     ]
    },
    {
     "name": "stdout",
     "output_type": "stream",
     "text": [
      "Saving figure: Spectograms\\2023-02-13T025908\\1000 milliseconds2023-02-13T025911.png\n",
      "Processing: 2023-02-13T02:59:12.000\n"
     ]
    },
    {
     "name": "stderr",
     "output_type": "stream",
     "text": [
      "<ipython-input-30-48b37abd0d66>:181: UserWarning: Only one segment is calculated since parameter NFFT (=256) >= signal length (=0).\n",
      "  spec = axs[site_count, 1].specgram(filtered_samples, Fs=1/9.142e-6, cmap ='rainbow' ,vmin=-100, vmax=0)\n",
      "c:\\Users\\ojhan\\anaconda3\\lib\\site-packages\\matplotlib\\axes\\_axes.py:7592: RuntimeWarning: divide by zero encountered in log10\n",
      "  Z = 10. * np.log10(spec)\n",
      "<ipython-input-30-48b37abd0d66>:181: UserWarning: Only one segment is calculated since parameter NFFT (=256) >= signal length (=0).\n",
      "  spec = axs[site_count, 1].specgram(filtered_samples, Fs=1/9.142e-6, cmap ='rainbow' ,vmin=-100, vmax=0)\n",
      "c:\\Users\\ojhan\\anaconda3\\lib\\site-packages\\matplotlib\\axes\\_axes.py:7592: RuntimeWarning: divide by zero encountered in log10\n",
      "  Z = 10. * np.log10(spec)\n"
     ]
    },
    {
     "name": "stdout",
     "output_type": "stream",
     "text": [
      "Saving figure: Spectograms\\2023-02-13T025908\\1000 milliseconds2023-02-13T025912.png\n",
      "Processing: 2023-02-13T02:59:13.000\n"
     ]
    },
    {
     "name": "stderr",
     "output_type": "stream",
     "text": [
      "<ipython-input-30-48b37abd0d66>:181: UserWarning: Only one segment is calculated since parameter NFFT (=256) >= signal length (=0).\n",
      "  spec = axs[site_count, 1].specgram(filtered_samples, Fs=1/9.142e-6, cmap ='rainbow' ,vmin=-100, vmax=0)\n",
      "c:\\Users\\ojhan\\anaconda3\\lib\\site-packages\\matplotlib\\axes\\_axes.py:7592: RuntimeWarning: divide by zero encountered in log10\n",
      "  Z = 10. * np.log10(spec)\n",
      "<ipython-input-30-48b37abd0d66>:181: UserWarning: Only one segment is calculated since parameter NFFT (=256) >= signal length (=0).\n",
      "  spec = axs[site_count, 1].specgram(filtered_samples, Fs=1/9.142e-6, cmap ='rainbow' ,vmin=-100, vmax=0)\n",
      "c:\\Users\\ojhan\\anaconda3\\lib\\site-packages\\matplotlib\\axes\\_axes.py:7592: RuntimeWarning: divide by zero encountered in log10\n",
      "  Z = 10. * np.log10(spec)\n"
     ]
    },
    {
     "name": "stdout",
     "output_type": "stream",
     "text": [
      "Saving figure: Spectograms\\2023-02-13T025908\\1000 milliseconds2023-02-13T025913.png\n",
      "Processing: 2023-02-13T02:59:14.000\n"
     ]
    },
    {
     "name": "stderr",
     "output_type": "stream",
     "text": [
      "<ipython-input-30-48b37abd0d66>:181: UserWarning: Only one segment is calculated since parameter NFFT (=256) >= signal length (=0).\n",
      "  spec = axs[site_count, 1].specgram(filtered_samples, Fs=1/9.142e-6, cmap ='rainbow' ,vmin=-100, vmax=0)\n",
      "c:\\Users\\ojhan\\anaconda3\\lib\\site-packages\\matplotlib\\axes\\_axes.py:7592: RuntimeWarning: divide by zero encountered in log10\n",
      "  Z = 10. * np.log10(spec)\n",
      "<ipython-input-30-48b37abd0d66>:181: UserWarning: Only one segment is calculated since parameter NFFT (=256) >= signal length (=0).\n",
      "  spec = axs[site_count, 1].specgram(filtered_samples, Fs=1/9.142e-6, cmap ='rainbow' ,vmin=-100, vmax=0)\n",
      "c:\\Users\\ojhan\\anaconda3\\lib\\site-packages\\matplotlib\\axes\\_axes.py:7592: RuntimeWarning: divide by zero encountered in log10\n",
      "  Z = 10. * np.log10(spec)\n"
     ]
    },
    {
     "name": "stdout",
     "output_type": "stream",
     "text": [
      "Saving figure: Spectograms\\2023-02-13T025908\\1000 milliseconds2023-02-13T025914.png\n",
      "Processing: 2023-02-13T02:59:15.000\n"
     ]
    },
    {
     "name": "stderr",
     "output_type": "stream",
     "text": [
      "<ipython-input-30-48b37abd0d66>:181: UserWarning: Only one segment is calculated since parameter NFFT (=256) >= signal length (=0).\n",
      "  spec = axs[site_count, 1].specgram(filtered_samples, Fs=1/9.142e-6, cmap ='rainbow' ,vmin=-100, vmax=0)\n",
      "c:\\Users\\ojhan\\anaconda3\\lib\\site-packages\\matplotlib\\axes\\_axes.py:7592: RuntimeWarning: divide by zero encountered in log10\n",
      "  Z = 10. * np.log10(spec)\n",
      "<ipython-input-30-48b37abd0d66>:181: UserWarning: Only one segment is calculated since parameter NFFT (=256) >= signal length (=0).\n",
      "  spec = axs[site_count, 1].specgram(filtered_samples, Fs=1/9.142e-6, cmap ='rainbow' ,vmin=-100, vmax=0)\n",
      "c:\\Users\\ojhan\\anaconda3\\lib\\site-packages\\matplotlib\\axes\\_axes.py:7592: RuntimeWarning: divide by zero encountered in log10\n",
      "  Z = 10. * np.log10(spec)\n"
     ]
    },
    {
     "name": "stdout",
     "output_type": "stream",
     "text": [
      "Saving figure: Spectograms\\2023-02-13T025908\\1000 milliseconds2023-02-13T025915.png\n",
      "Processing: 2023-02-13T02:59:16.000\n"
     ]
    },
    {
     "name": "stderr",
     "output_type": "stream",
     "text": [
      "<ipython-input-30-48b37abd0d66>:181: UserWarning: Only one segment is calculated since parameter NFFT (=256) >= signal length (=0).\n",
      "  spec = axs[site_count, 1].specgram(filtered_samples, Fs=1/9.142e-6, cmap ='rainbow' ,vmin=-100, vmax=0)\n",
      "c:\\Users\\ojhan\\anaconda3\\lib\\site-packages\\matplotlib\\axes\\_axes.py:7592: RuntimeWarning: divide by zero encountered in log10\n",
      "  Z = 10. * np.log10(spec)\n",
      "<ipython-input-30-48b37abd0d66>:181: UserWarning: Only one segment is calculated since parameter NFFT (=256) >= signal length (=0).\n",
      "  spec = axs[site_count, 1].specgram(filtered_samples, Fs=1/9.142e-6, cmap ='rainbow' ,vmin=-100, vmax=0)\n",
      "c:\\Users\\ojhan\\anaconda3\\lib\\site-packages\\matplotlib\\axes\\_axes.py:7592: RuntimeWarning: divide by zero encountered in log10\n",
      "  Z = 10. * np.log10(spec)\n"
     ]
    },
    {
     "name": "stdout",
     "output_type": "stream",
     "text": [
      "Saving figure: Spectograms\\2023-02-13T025908\\1000 milliseconds2023-02-13T025916.png\n",
      "Processing: 2023-02-13T02:59:17.000\n"
     ]
    },
    {
     "name": "stderr",
     "output_type": "stream",
     "text": [
      "<ipython-input-30-48b37abd0d66>:181: UserWarning: Only one segment is calculated since parameter NFFT (=256) >= signal length (=0).\n",
      "  spec = axs[site_count, 1].specgram(filtered_samples, Fs=1/9.142e-6, cmap ='rainbow' ,vmin=-100, vmax=0)\n",
      "c:\\Users\\ojhan\\anaconda3\\lib\\site-packages\\matplotlib\\axes\\_axes.py:7592: RuntimeWarning: divide by zero encountered in log10\n",
      "  Z = 10. * np.log10(spec)\n",
      "<ipython-input-30-48b37abd0d66>:181: UserWarning: Only one segment is calculated since parameter NFFT (=256) >= signal length (=0).\n",
      "  spec = axs[site_count, 1].specgram(filtered_samples, Fs=1/9.142e-6, cmap ='rainbow' ,vmin=-100, vmax=0)\n",
      "c:\\Users\\ojhan\\anaconda3\\lib\\site-packages\\matplotlib\\axes\\_axes.py:7592: RuntimeWarning: divide by zero encountered in log10\n",
      "  Z = 10. * np.log10(spec)\n"
     ]
    },
    {
     "name": "stdout",
     "output_type": "stream",
     "text": [
      "Saving figure: Spectograms\\2023-02-13T025908\\1000 milliseconds2023-02-13T025917.png\n",
      "Processing: 2023-02-13T02:59:18.000\n"
     ]
    },
    {
     "name": "stderr",
     "output_type": "stream",
     "text": [
      "<ipython-input-30-48b37abd0d66>:181: UserWarning: Only one segment is calculated since parameter NFFT (=256) >= signal length (=0).\n",
      "  spec = axs[site_count, 1].specgram(filtered_samples, Fs=1/9.142e-6, cmap ='rainbow' ,vmin=-100, vmax=0)\n",
      "c:\\Users\\ojhan\\anaconda3\\lib\\site-packages\\matplotlib\\axes\\_axes.py:7592: RuntimeWarning: divide by zero encountered in log10\n",
      "  Z = 10. * np.log10(spec)\n",
      "<ipython-input-30-48b37abd0d66>:181: UserWarning: Only one segment is calculated since parameter NFFT (=256) >= signal length (=0).\n",
      "  spec = axs[site_count, 1].specgram(filtered_samples, Fs=1/9.142e-6, cmap ='rainbow' ,vmin=-100, vmax=0)\n",
      "c:\\Users\\ojhan\\anaconda3\\lib\\site-packages\\matplotlib\\axes\\_axes.py:7592: RuntimeWarning: divide by zero encountered in log10\n",
      "  Z = 10. * np.log10(spec)\n"
     ]
    },
    {
     "name": "stdout",
     "output_type": "stream",
     "text": [
      "Saving figure: Spectograms\\2023-02-13T025908\\1000 milliseconds2023-02-13T025918.png\n",
      "Processing: 2023-02-13T02:59:19.000\n"
     ]
    },
    {
     "name": "stderr",
     "output_type": "stream",
     "text": [
      "<ipython-input-30-48b37abd0d66>:181: UserWarning: Only one segment is calculated since parameter NFFT (=256) >= signal length (=0).\n",
      "  spec = axs[site_count, 1].specgram(filtered_samples, Fs=1/9.142e-6, cmap ='rainbow' ,vmin=-100, vmax=0)\n",
      "c:\\Users\\ojhan\\anaconda3\\lib\\site-packages\\matplotlib\\axes\\_axes.py:7592: RuntimeWarning: divide by zero encountered in log10\n",
      "  Z = 10. * np.log10(spec)\n",
      "<ipython-input-30-48b37abd0d66>:181: UserWarning: Only one segment is calculated since parameter NFFT (=256) >= signal length (=0).\n",
      "  spec = axs[site_count, 1].specgram(filtered_samples, Fs=1/9.142e-6, cmap ='rainbow' ,vmin=-100, vmax=0)\n",
      "c:\\Users\\ojhan\\anaconda3\\lib\\site-packages\\matplotlib\\axes\\_axes.py:7592: RuntimeWarning: divide by zero encountered in log10\n",
      "  Z = 10. * np.log10(spec)\n"
     ]
    },
    {
     "name": "stdout",
     "output_type": "stream",
     "text": [
      "Saving figure: Spectograms\\2023-02-13T025908\\1000 milliseconds2023-02-13T025919.png\n",
      "Reading: C:\\\\Users\\\\ojhan\\\\OneDrive\\\\Documents\\\\PhysicsProject\\\\24-09-2023\\Akrotiri_569218Q0B0024002A.202309240132.npy\n",
      "Reading: C:\\\\Users\\\\ojhan\\\\OneDrive\\\\Documents\\\\PhysicsProject\\\\24-09-2023\\Akrotiri_569218Q0B0024002A.202309240133.npy\n",
      "Reading: C:\\\\Users\\\\ojhan\\\\OneDrive\\\\Documents\\\\PhysicsProject\\\\24-09-2023\\Cabauw_569218Q0B003D003E.202309240132.npy\n",
      "Reading: C:\\\\Users\\\\ojhan\\\\OneDrive\\\\Documents\\\\PhysicsProject\\\\24-09-2023\\Cabauw_569218Q0B003D003E.202309240133.npy\n",
      "Reading: C:\\\\Users\\\\ojhan\\\\OneDrive\\\\Documents\\\\PhysicsProject\\\\24-09-2023\\Camborne_569218Q0B0025002A.202309240132.npy\n",
      "Reading: C:\\\\Users\\\\ojhan\\\\OneDrive\\\\Documents\\\\PhysicsProject\\\\24-09-2023\\Camborne_569218Q0B0025002A.202309240133.npy\n",
      "Reading: C:\\\\Users\\\\ojhan\\\\OneDrive\\\\Documents\\\\PhysicsProject\\\\24-09-2023\\Gibraltar_569218Q0B001A002A.202309240132.npy\n",
      "Reading: C:\\\\Users\\\\ojhan\\\\OneDrive\\\\Documents\\\\PhysicsProject\\\\24-09-2023\\Gibraltar_569218Q0B001A002A.202309240133.npy\n",
      "Reading: C:\\\\Users\\\\ojhan\\\\OneDrive\\\\Documents\\\\PhysicsProject\\\\24-09-2023\\Keflavik_569218Q0B0027003E.202309240132.npy\n",
      "Reading: C:\\\\Users\\\\ojhan\\\\OneDrive\\\\Documents\\\\PhysicsProject\\\\24-09-2023\\Keflavik_569218Q0B0027003E.202309240133.npy\n",
      "Reading: C:\\\\Users\\\\ojhan\\\\OneDrive\\\\Documents\\\\PhysicsProject\\\\24-09-2023\\Lerwick_569218Q0B0019002A.202309240132.npy\n",
      "Reading: C:\\\\Users\\\\ojhan\\\\OneDrive\\\\Documents\\\\PhysicsProject\\\\24-09-2023\\Lerwick_569218Q0B0019002A.202309240133.npy\n",
      "Reading: C:\\\\Users\\\\ojhan\\\\OneDrive\\\\Documents\\\\PhysicsProject\\\\24-09-2023\\Herstmonceux_569218Q0B003D002A.202309240132.npy\n",
      "Reading: C:\\\\Users\\\\ojhan\\\\OneDrive\\\\Documents\\\\PhysicsProject\\\\24-09-2023\\Herstmonceux_569218Q0B003D002A.202309240133.npy\n",
      "Reading: C:\\\\Users\\\\ojhan\\\\OneDrive\\\\Documents\\\\PhysicsProject\\\\24-09-2023\\Payerne_569218Q0B00170029.202309240132.npy\n",
      "Reading: C:\\\\Users\\\\ojhan\\\\OneDrive\\\\Documents\\\\PhysicsProject\\\\24-09-2023\\Payerne_569218Q0B00170029.202309240133.npy\n",
      "Reading: C:\\\\Users\\\\ojhan\\\\OneDrive\\\\Documents\\\\PhysicsProject\\\\24-09-2023\\Tartu_569218Q0B0036003F.202309240132.npy\n",
      "Reading: C:\\\\Users\\\\ojhan\\\\OneDrive\\\\Documents\\\\PhysicsProject\\\\24-09-2023\\Tartu_569218Q0B0036003F.202309240133.npy\n",
      "Reading: C:\\\\Users\\\\ojhan\\\\OneDrive\\\\Documents\\\\PhysicsProject\\\\24-09-2023\\Valentia_569218Q0B0023002A.202309240132.npy\n",
      "Reading: C:\\\\Users\\\\ojhan\\\\OneDrive\\\\Documents\\\\PhysicsProject\\\\24-09-2023\\Valentia_569218Q0B0023002A.202309240133.npy\n",
      "Reading: C:\\\\Users\\\\ojhan\\\\OneDrive\\\\Documents\\\\PhysicsProject\\\\24-09-2023\\Watnall_569218Q0B001D0029.202309240132.npy\n",
      "Reading: C:\\\\Users\\\\ojhan\\\\OneDrive\\\\Documents\\\\PhysicsProject\\\\24-09-2023\\Watnall_569218Q0B001D0029.202309240133.npy\n",
      "data loaded\n",
      "Processing: 2023-09-24T01:32:15.000\n",
      "Saving figure: Spectograms\\2023-09-24T013215\\1000 milliseconds2023-09-24T013215.png\n",
      "Processing: 2023-09-24T01:32:16.000\n",
      "Saving figure: Spectograms\\2023-09-24T013215\\1000 milliseconds2023-09-24T013216.png\n",
      "Processing: 2023-09-24T01:32:17.000\n",
      "Saving figure: Spectograms\\2023-09-24T013215\\1000 milliseconds2023-09-24T013217.png\n",
      "Processing: 2023-09-24T01:32:18.000\n",
      "Saving figure: Spectograms\\2023-09-24T013215\\1000 milliseconds2023-09-24T013218.png\n",
      "Processing: 2023-09-24T01:32:19.000\n",
      "Saving figure: Spectograms\\2023-09-24T013215\\1000 milliseconds2023-09-24T013219.png\n",
      "Processing: 2023-09-24T01:32:20.000\n",
      "Saving figure: Spectograms\\2023-09-24T013215\\1000 milliseconds2023-09-24T013220.png\n",
      "Processing: 2023-09-24T01:32:21.000\n",
      "Saving figure: Spectograms\\2023-09-24T013215\\1000 milliseconds2023-09-24T013221.png\n",
      "Processing: 2023-09-24T01:32:22.000\n",
      "Saving figure: Spectograms\\2023-09-24T013215\\1000 milliseconds2023-09-24T013222.png\n",
      "Processing: 2023-09-24T01:32:23.000\n",
      "Saving figure: Spectograms\\2023-09-24T013215\\1000 milliseconds2023-09-24T013223.png\n",
      "Processing: 2023-09-24T01:32:24.000\n",
      "Saving figure: Spectograms\\2023-09-24T013215\\1000 milliseconds2023-09-24T013224.png\n",
      "Processing: 2023-09-24T01:32:25.000\n",
      "Saving figure: Spectograms\\2023-09-24T013215\\1000 milliseconds2023-09-24T013225.png\n",
      "Processing: 2023-09-24T01:32:26.000\n",
      "Saving figure: Spectograms\\2023-09-24T013215\\1000 milliseconds2023-09-24T013226.png\n",
      "Processing: 2023-09-24T01:32:27.000\n",
      "Saving figure: Spectograms\\2023-09-24T013215\\1000 milliseconds2023-09-24T013227.png\n",
      "Processing: 2023-09-24T01:32:28.000\n",
      "Saving figure: Spectograms\\2023-09-24T013215\\1000 milliseconds2023-09-24T013228.png\n",
      "Processing: 2023-09-24T01:32:29.000\n",
      "Saving figure: Spectograms\\2023-09-24T013215\\1000 milliseconds2023-09-24T013229.png\n",
      "Reading: C:\\\\Users\\\\ojhan\\\\OneDrive\\\\Documents\\\\PhysicsProject\\\\31-01-2023\\Akrotiri_569218Q0B0024002A.202301310001.npy\n",
      "Reading: C:\\\\Users\\\\ojhan\\\\OneDrive\\\\Documents\\\\PhysicsProject\\\\31-01-2023\\Akrotiri_569218Q0B0024002A.202301310002.npy\n",
      "Reading: C:\\\\Users\\\\ojhan\\\\OneDrive\\\\Documents\\\\PhysicsProject\\\\31-01-2023\\Cabauw_569218Q0B003D003E.202301310001.npy\n",
      "Reading: C:\\\\Users\\\\ojhan\\\\OneDrive\\\\Documents\\\\PhysicsProject\\\\31-01-2023\\Cabauw_569218Q0B003D003E.202301310002.npy\n",
      "Reading: C:\\\\Users\\\\ojhan\\\\OneDrive\\\\Documents\\\\PhysicsProject\\\\31-01-2023\\Camborne_569218Q0B0025002A.202301310001.npy\n",
      "Reading: C:\\\\Users\\\\ojhan\\\\OneDrive\\\\Documents\\\\PhysicsProject\\\\31-01-2023\\Camborne_569218Q0B0025002A.202301310002.npy\n",
      "Reading: C:\\\\Users\\\\ojhan\\\\OneDrive\\\\Documents\\\\PhysicsProject\\\\31-01-2023\\Keflavik_569218Q0B0027003E.202301310001.npy\n",
      "Reading: C:\\\\Users\\\\ojhan\\\\OneDrive\\\\Documents\\\\PhysicsProject\\\\31-01-2023\\Herstmonceux_569218Q0B003D002A.202301310001.npy\n",
      "Reading: C:\\\\Users\\\\ojhan\\\\OneDrive\\\\Documents\\\\PhysicsProject\\\\31-01-2023\\Herstmonceux_569218Q0B003D002A.202301310002.npy\n",
      "Reading: C:\\\\Users\\\\ojhan\\\\OneDrive\\\\Documents\\\\PhysicsProject\\\\31-01-2023\\Payerne_569218Q0B00170029.202301310001.npy\n",
      "Reading: C:\\\\Users\\\\ojhan\\\\OneDrive\\\\Documents\\\\PhysicsProject\\\\31-01-2023\\Payerne_569218Q0B00170029.202301310002.npy\n",
      "Reading: C:\\\\Users\\\\ojhan\\\\OneDrive\\\\Documents\\\\PhysicsProject\\\\31-01-2023\\Tartu_569218Q0B0036003F.202301310001.npy\n",
      "Reading: C:\\\\Users\\\\ojhan\\\\OneDrive\\\\Documents\\\\PhysicsProject\\\\31-01-2023\\Tartu_569218Q0B0036003F.202301310002.npy\n",
      "Reading: C:\\\\Users\\\\ojhan\\\\OneDrive\\\\Documents\\\\PhysicsProject\\\\31-01-2023\\Watnall_569218Q0B001D0029.202301310001.npy\n",
      "Reading: C:\\\\Users\\\\ojhan\\\\OneDrive\\\\Documents\\\\PhysicsProject\\\\31-01-2023\\Watnall_569218Q0B001D0029.202301310002.npy\n",
      "data loaded\n",
      "Processing: 2023-01-31T00:01:12.000\n"
     ]
    },
    {
     "name": "stderr",
     "output_type": "stream",
     "text": [
      "<ipython-input-30-48b37abd0d66>:181: UserWarning: Only one segment is calculated since parameter NFFT (=256) >= signal length (=0).\n",
      "  spec = axs[site_count, 1].specgram(filtered_samples, Fs=1/9.142e-6, cmap ='rainbow' ,vmin=-100, vmax=0)\n",
      "c:\\Users\\ojhan\\anaconda3\\lib\\site-packages\\matplotlib\\axes\\_axes.py:7592: RuntimeWarning: divide by zero encountered in log10\n",
      "  Z = 10. * np.log10(spec)\n",
      "<ipython-input-30-48b37abd0d66>:181: UserWarning: Only one segment is calculated since parameter NFFT (=256) >= signal length (=0).\n",
      "  spec = axs[site_count, 1].specgram(filtered_samples, Fs=1/9.142e-6, cmap ='rainbow' ,vmin=-100, vmax=0)\n",
      "c:\\Users\\ojhan\\anaconda3\\lib\\site-packages\\matplotlib\\axes\\_axes.py:7592: RuntimeWarning: divide by zero encountered in log10\n",
      "  Z = 10. * np.log10(spec)\n",
      "<ipython-input-30-48b37abd0d66>:181: UserWarning: Only one segment is calculated since parameter NFFT (=256) >= signal length (=0).\n",
      "  spec = axs[site_count, 1].specgram(filtered_samples, Fs=1/9.142e-6, cmap ='rainbow' ,vmin=-100, vmax=0)\n",
      "c:\\Users\\ojhan\\anaconda3\\lib\\site-packages\\matplotlib\\axes\\_axes.py:7592: RuntimeWarning: divide by zero encountered in log10\n",
      "  Z = 10. * np.log10(spec)\n"
     ]
    },
    {
     "name": "stdout",
     "output_type": "stream",
     "text": [
      "Saving figure: Spectograms\\2023-01-31T000112\\1000 milliseconds2023-01-31T000112.png\n",
      "Processing: 2023-01-31T00:01:13.000\n"
     ]
    },
    {
     "name": "stderr",
     "output_type": "stream",
     "text": [
      "<ipython-input-30-48b37abd0d66>:181: UserWarning: Only one segment is calculated since parameter NFFT (=256) >= signal length (=0).\n",
      "  spec = axs[site_count, 1].specgram(filtered_samples, Fs=1/9.142e-6, cmap ='rainbow' ,vmin=-100, vmax=0)\n",
      "c:\\Users\\ojhan\\anaconda3\\lib\\site-packages\\matplotlib\\axes\\_axes.py:7592: RuntimeWarning: divide by zero encountered in log10\n",
      "  Z = 10. * np.log10(spec)\n",
      "<ipython-input-30-48b37abd0d66>:181: UserWarning: Only one segment is calculated since parameter NFFT (=256) >= signal length (=0).\n",
      "  spec = axs[site_count, 1].specgram(filtered_samples, Fs=1/9.142e-6, cmap ='rainbow' ,vmin=-100, vmax=0)\n",
      "c:\\Users\\ojhan\\anaconda3\\lib\\site-packages\\matplotlib\\axes\\_axes.py:7592: RuntimeWarning: divide by zero encountered in log10\n",
      "  Z = 10. * np.log10(spec)\n",
      "<ipython-input-30-48b37abd0d66>:181: UserWarning: Only one segment is calculated since parameter NFFT (=256) >= signal length (=0).\n",
      "  spec = axs[site_count, 1].specgram(filtered_samples, Fs=1/9.142e-6, cmap ='rainbow' ,vmin=-100, vmax=0)\n",
      "c:\\Users\\ojhan\\anaconda3\\lib\\site-packages\\matplotlib\\axes\\_axes.py:7592: RuntimeWarning: divide by zero encountered in log10\n",
      "  Z = 10. * np.log10(spec)\n"
     ]
    },
    {
     "name": "stdout",
     "output_type": "stream",
     "text": [
      "Saving figure: Spectograms\\2023-01-31T000112\\1000 milliseconds2023-01-31T000113.png\n",
      "Processing: 2023-01-31T00:01:14.000\n"
     ]
    },
    {
     "name": "stderr",
     "output_type": "stream",
     "text": [
      "<ipython-input-30-48b37abd0d66>:181: UserWarning: Only one segment is calculated since parameter NFFT (=256) >= signal length (=0).\n",
      "  spec = axs[site_count, 1].specgram(filtered_samples, Fs=1/9.142e-6, cmap ='rainbow' ,vmin=-100, vmax=0)\n",
      "c:\\Users\\ojhan\\anaconda3\\lib\\site-packages\\matplotlib\\axes\\_axes.py:7592: RuntimeWarning: divide by zero encountered in log10\n",
      "  Z = 10. * np.log10(spec)\n",
      "<ipython-input-30-48b37abd0d66>:181: UserWarning: Only one segment is calculated since parameter NFFT (=256) >= signal length (=0).\n",
      "  spec = axs[site_count, 1].specgram(filtered_samples, Fs=1/9.142e-6, cmap ='rainbow' ,vmin=-100, vmax=0)\n",
      "c:\\Users\\ojhan\\anaconda3\\lib\\site-packages\\matplotlib\\axes\\_axes.py:7592: RuntimeWarning: divide by zero encountered in log10\n",
      "  Z = 10. * np.log10(spec)\n",
      "<ipython-input-30-48b37abd0d66>:181: UserWarning: Only one segment is calculated since parameter NFFT (=256) >= signal length (=0).\n",
      "  spec = axs[site_count, 1].specgram(filtered_samples, Fs=1/9.142e-6, cmap ='rainbow' ,vmin=-100, vmax=0)\n",
      "c:\\Users\\ojhan\\anaconda3\\lib\\site-packages\\matplotlib\\axes\\_axes.py:7592: RuntimeWarning: divide by zero encountered in log10\n",
      "  Z = 10. * np.log10(spec)\n"
     ]
    },
    {
     "name": "stdout",
     "output_type": "stream",
     "text": [
      "Saving figure: Spectograms\\2023-01-31T000112\\1000 milliseconds2023-01-31T000114.png\n",
      "Processing: 2023-01-31T00:01:15.000\n"
     ]
    },
    {
     "name": "stderr",
     "output_type": "stream",
     "text": [
      "<ipython-input-30-48b37abd0d66>:181: UserWarning: Only one segment is calculated since parameter NFFT (=256) >= signal length (=0).\n",
      "  spec = axs[site_count, 1].specgram(filtered_samples, Fs=1/9.142e-6, cmap ='rainbow' ,vmin=-100, vmax=0)\n",
      "c:\\Users\\ojhan\\anaconda3\\lib\\site-packages\\matplotlib\\axes\\_axes.py:7592: RuntimeWarning: divide by zero encountered in log10\n",
      "  Z = 10. * np.log10(spec)\n",
      "<ipython-input-30-48b37abd0d66>:181: UserWarning: Only one segment is calculated since parameter NFFT (=256) >= signal length (=0).\n",
      "  spec = axs[site_count, 1].specgram(filtered_samples, Fs=1/9.142e-6, cmap ='rainbow' ,vmin=-100, vmax=0)\n",
      "c:\\Users\\ojhan\\anaconda3\\lib\\site-packages\\matplotlib\\axes\\_axes.py:7592: RuntimeWarning: divide by zero encountered in log10\n",
      "  Z = 10. * np.log10(spec)\n",
      "<ipython-input-30-48b37abd0d66>:181: UserWarning: Only one segment is calculated since parameter NFFT (=256) >= signal length (=0).\n",
      "  spec = axs[site_count, 1].specgram(filtered_samples, Fs=1/9.142e-6, cmap ='rainbow' ,vmin=-100, vmax=0)\n",
      "c:\\Users\\ojhan\\anaconda3\\lib\\site-packages\\matplotlib\\axes\\_axes.py:7592: RuntimeWarning: divide by zero encountered in log10\n",
      "  Z = 10. * np.log10(spec)\n"
     ]
    },
    {
     "name": "stdout",
     "output_type": "stream",
     "text": [
      "Saving figure: Spectograms\\2023-01-31T000112\\1000 milliseconds2023-01-31T000115.png\n",
      "Processing: 2023-01-31T00:01:16.000\n"
     ]
    },
    {
     "name": "stderr",
     "output_type": "stream",
     "text": [
      "<ipython-input-30-48b37abd0d66>:181: UserWarning: Only one segment is calculated since parameter NFFT (=256) >= signal length (=0).\n",
      "  spec = axs[site_count, 1].specgram(filtered_samples, Fs=1/9.142e-6, cmap ='rainbow' ,vmin=-100, vmax=0)\n",
      "c:\\Users\\ojhan\\anaconda3\\lib\\site-packages\\matplotlib\\axes\\_axes.py:7592: RuntimeWarning: divide by zero encountered in log10\n",
      "  Z = 10. * np.log10(spec)\n",
      "<ipython-input-30-48b37abd0d66>:181: UserWarning: Only one segment is calculated since parameter NFFT (=256) >= signal length (=0).\n",
      "  spec = axs[site_count, 1].specgram(filtered_samples, Fs=1/9.142e-6, cmap ='rainbow' ,vmin=-100, vmax=0)\n",
      "c:\\Users\\ojhan\\anaconda3\\lib\\site-packages\\matplotlib\\axes\\_axes.py:7592: RuntimeWarning: divide by zero encountered in log10\n",
      "  Z = 10. * np.log10(spec)\n",
      "<ipython-input-30-48b37abd0d66>:181: UserWarning: Only one segment is calculated since parameter NFFT (=256) >= signal length (=0).\n",
      "  spec = axs[site_count, 1].specgram(filtered_samples, Fs=1/9.142e-6, cmap ='rainbow' ,vmin=-100, vmax=0)\n",
      "c:\\Users\\ojhan\\anaconda3\\lib\\site-packages\\matplotlib\\axes\\_axes.py:7592: RuntimeWarning: divide by zero encountered in log10\n",
      "  Z = 10. * np.log10(spec)\n"
     ]
    },
    {
     "name": "stdout",
     "output_type": "stream",
     "text": [
      "Saving figure: Spectograms\\2023-01-31T000112\\1000 milliseconds2023-01-31T000116.png\n",
      "Processing: 2023-01-31T00:01:17.000\n"
     ]
    },
    {
     "name": "stderr",
     "output_type": "stream",
     "text": [
      "<ipython-input-30-48b37abd0d66>:181: UserWarning: Only one segment is calculated since parameter NFFT (=256) >= signal length (=0).\n",
      "  spec = axs[site_count, 1].specgram(filtered_samples, Fs=1/9.142e-6, cmap ='rainbow' ,vmin=-100, vmax=0)\n",
      "c:\\Users\\ojhan\\anaconda3\\lib\\site-packages\\matplotlib\\axes\\_axes.py:7592: RuntimeWarning: divide by zero encountered in log10\n",
      "  Z = 10. * np.log10(spec)\n",
      "<ipython-input-30-48b37abd0d66>:181: UserWarning: Only one segment is calculated since parameter NFFT (=256) >= signal length (=0).\n",
      "  spec = axs[site_count, 1].specgram(filtered_samples, Fs=1/9.142e-6, cmap ='rainbow' ,vmin=-100, vmax=0)\n",
      "c:\\Users\\ojhan\\anaconda3\\lib\\site-packages\\matplotlib\\axes\\_axes.py:7592: RuntimeWarning: divide by zero encountered in log10\n",
      "  Z = 10. * np.log10(spec)\n",
      "<ipython-input-30-48b37abd0d66>:181: UserWarning: Only one segment is calculated since parameter NFFT (=256) >= signal length (=0).\n",
      "  spec = axs[site_count, 1].specgram(filtered_samples, Fs=1/9.142e-6, cmap ='rainbow' ,vmin=-100, vmax=0)\n",
      "c:\\Users\\ojhan\\anaconda3\\lib\\site-packages\\matplotlib\\axes\\_axes.py:7592: RuntimeWarning: divide by zero encountered in log10\n",
      "  Z = 10. * np.log10(spec)\n"
     ]
    },
    {
     "name": "stdout",
     "output_type": "stream",
     "text": [
      "Saving figure: Spectograms\\2023-01-31T000112\\1000 milliseconds2023-01-31T000117.png\n",
      "Processing: 2023-01-31T00:01:18.000\n"
     ]
    },
    {
     "name": "stderr",
     "output_type": "stream",
     "text": [
      "<ipython-input-30-48b37abd0d66>:181: UserWarning: Only one segment is calculated since parameter NFFT (=256) >= signal length (=0).\n",
      "  spec = axs[site_count, 1].specgram(filtered_samples, Fs=1/9.142e-6, cmap ='rainbow' ,vmin=-100, vmax=0)\n",
      "c:\\Users\\ojhan\\anaconda3\\lib\\site-packages\\matplotlib\\axes\\_axes.py:7592: RuntimeWarning: divide by zero encountered in log10\n",
      "  Z = 10. * np.log10(spec)\n",
      "<ipython-input-30-48b37abd0d66>:181: UserWarning: Only one segment is calculated since parameter NFFT (=256) >= signal length (=0).\n",
      "  spec = axs[site_count, 1].specgram(filtered_samples, Fs=1/9.142e-6, cmap ='rainbow' ,vmin=-100, vmax=0)\n",
      "c:\\Users\\ojhan\\anaconda3\\lib\\site-packages\\matplotlib\\axes\\_axes.py:7592: RuntimeWarning: divide by zero encountered in log10\n",
      "  Z = 10. * np.log10(spec)\n",
      "<ipython-input-30-48b37abd0d66>:181: UserWarning: Only one segment is calculated since parameter NFFT (=256) >= signal length (=0).\n",
      "  spec = axs[site_count, 1].specgram(filtered_samples, Fs=1/9.142e-6, cmap ='rainbow' ,vmin=-100, vmax=0)\n",
      "c:\\Users\\ojhan\\anaconda3\\lib\\site-packages\\matplotlib\\axes\\_axes.py:7592: RuntimeWarning: divide by zero encountered in log10\n",
      "  Z = 10. * np.log10(spec)\n"
     ]
    },
    {
     "name": "stdout",
     "output_type": "stream",
     "text": [
      "Saving figure: Spectograms\\2023-01-31T000112\\1000 milliseconds2023-01-31T000118.png\n",
      "Processing: 2023-01-31T00:01:19.000\n"
     ]
    },
    {
     "name": "stderr",
     "output_type": "stream",
     "text": [
      "<ipython-input-30-48b37abd0d66>:181: UserWarning: Only one segment is calculated since parameter NFFT (=256) >= signal length (=0).\n",
      "  spec = axs[site_count, 1].specgram(filtered_samples, Fs=1/9.142e-6, cmap ='rainbow' ,vmin=-100, vmax=0)\n",
      "c:\\Users\\ojhan\\anaconda3\\lib\\site-packages\\matplotlib\\axes\\_axes.py:7592: RuntimeWarning: divide by zero encountered in log10\n",
      "  Z = 10. * np.log10(spec)\n",
      "<ipython-input-30-48b37abd0d66>:181: UserWarning: Only one segment is calculated since parameter NFFT (=256) >= signal length (=0).\n",
      "  spec = axs[site_count, 1].specgram(filtered_samples, Fs=1/9.142e-6, cmap ='rainbow' ,vmin=-100, vmax=0)\n",
      "c:\\Users\\ojhan\\anaconda3\\lib\\site-packages\\matplotlib\\axes\\_axes.py:7592: RuntimeWarning: divide by zero encountered in log10\n",
      "  Z = 10. * np.log10(spec)\n",
      "<ipython-input-30-48b37abd0d66>:181: UserWarning: Only one segment is calculated since parameter NFFT (=256) >= signal length (=0).\n",
      "  spec = axs[site_count, 1].specgram(filtered_samples, Fs=1/9.142e-6, cmap ='rainbow' ,vmin=-100, vmax=0)\n",
      "c:\\Users\\ojhan\\anaconda3\\lib\\site-packages\\matplotlib\\axes\\_axes.py:7592: RuntimeWarning: divide by zero encountered in log10\n",
      "  Z = 10. * np.log10(spec)\n"
     ]
    },
    {
     "name": "stdout",
     "output_type": "stream",
     "text": [
      "Saving figure: Spectograms\\2023-01-31T000112\\1000 milliseconds2023-01-31T000119.png\n",
      "Processing: 2023-01-31T00:01:20.000\n"
     ]
    },
    {
     "name": "stderr",
     "output_type": "stream",
     "text": [
      "<ipython-input-30-48b37abd0d66>:181: UserWarning: Only one segment is calculated since parameter NFFT (=256) >= signal length (=0).\n",
      "  spec = axs[site_count, 1].specgram(filtered_samples, Fs=1/9.142e-6, cmap ='rainbow' ,vmin=-100, vmax=0)\n",
      "c:\\Users\\ojhan\\anaconda3\\lib\\site-packages\\matplotlib\\axes\\_axes.py:7592: RuntimeWarning: divide by zero encountered in log10\n",
      "  Z = 10. * np.log10(spec)\n",
      "<ipython-input-30-48b37abd0d66>:181: UserWarning: Only one segment is calculated since parameter NFFT (=256) >= signal length (=0).\n",
      "  spec = axs[site_count, 1].specgram(filtered_samples, Fs=1/9.142e-6, cmap ='rainbow' ,vmin=-100, vmax=0)\n",
      "c:\\Users\\ojhan\\anaconda3\\lib\\site-packages\\matplotlib\\axes\\_axes.py:7592: RuntimeWarning: divide by zero encountered in log10\n",
      "  Z = 10. * np.log10(spec)\n",
      "<ipython-input-30-48b37abd0d66>:181: UserWarning: Only one segment is calculated since parameter NFFT (=256) >= signal length (=0).\n",
      "  spec = axs[site_count, 1].specgram(filtered_samples, Fs=1/9.142e-6, cmap ='rainbow' ,vmin=-100, vmax=0)\n",
      "c:\\Users\\ojhan\\anaconda3\\lib\\site-packages\\matplotlib\\axes\\_axes.py:7592: RuntimeWarning: divide by zero encountered in log10\n",
      "  Z = 10. * np.log10(spec)\n"
     ]
    },
    {
     "name": "stdout",
     "output_type": "stream",
     "text": [
      "Saving figure: Spectograms\\2023-01-31T000112\\1000 milliseconds2023-01-31T000120.png\n",
      "Processing: 2023-01-31T00:01:21.000\n"
     ]
    },
    {
     "name": "stderr",
     "output_type": "stream",
     "text": [
      "<ipython-input-30-48b37abd0d66>:181: UserWarning: Only one segment is calculated since parameter NFFT (=256) >= signal length (=0).\n",
      "  spec = axs[site_count, 1].specgram(filtered_samples, Fs=1/9.142e-6, cmap ='rainbow' ,vmin=-100, vmax=0)\n",
      "c:\\Users\\ojhan\\anaconda3\\lib\\site-packages\\matplotlib\\axes\\_axes.py:7592: RuntimeWarning: divide by zero encountered in log10\n",
      "  Z = 10. * np.log10(spec)\n",
      "<ipython-input-30-48b37abd0d66>:181: UserWarning: Only one segment is calculated since parameter NFFT (=256) >= signal length (=0).\n",
      "  spec = axs[site_count, 1].specgram(filtered_samples, Fs=1/9.142e-6, cmap ='rainbow' ,vmin=-100, vmax=0)\n",
      "c:\\Users\\ojhan\\anaconda3\\lib\\site-packages\\matplotlib\\axes\\_axes.py:7592: RuntimeWarning: divide by zero encountered in log10\n",
      "  Z = 10. * np.log10(spec)\n",
      "<ipython-input-30-48b37abd0d66>:181: UserWarning: Only one segment is calculated since parameter NFFT (=256) >= signal length (=0).\n",
      "  spec = axs[site_count, 1].specgram(filtered_samples, Fs=1/9.142e-6, cmap ='rainbow' ,vmin=-100, vmax=0)\n",
      "c:\\Users\\ojhan\\anaconda3\\lib\\site-packages\\matplotlib\\axes\\_axes.py:7592: RuntimeWarning: divide by zero encountered in log10\n",
      "  Z = 10. * np.log10(spec)\n"
     ]
    },
    {
     "name": "stdout",
     "output_type": "stream",
     "text": [
      "Saving figure: Spectograms\\2023-01-31T000112\\1000 milliseconds2023-01-31T000121.png\n",
      "Processing: 2023-01-31T00:01:22.000\n"
     ]
    },
    {
     "name": "stderr",
     "output_type": "stream",
     "text": [
      "<ipython-input-30-48b37abd0d66>:181: UserWarning: Only one segment is calculated since parameter NFFT (=256) >= signal length (=0).\n",
      "  spec = axs[site_count, 1].specgram(filtered_samples, Fs=1/9.142e-6, cmap ='rainbow' ,vmin=-100, vmax=0)\n",
      "c:\\Users\\ojhan\\anaconda3\\lib\\site-packages\\matplotlib\\axes\\_axes.py:7592: RuntimeWarning: divide by zero encountered in log10\n",
      "  Z = 10. * np.log10(spec)\n",
      "<ipython-input-30-48b37abd0d66>:181: UserWarning: Only one segment is calculated since parameter NFFT (=256) >= signal length (=0).\n",
      "  spec = axs[site_count, 1].specgram(filtered_samples, Fs=1/9.142e-6, cmap ='rainbow' ,vmin=-100, vmax=0)\n",
      "c:\\Users\\ojhan\\anaconda3\\lib\\site-packages\\matplotlib\\axes\\_axes.py:7592: RuntimeWarning: divide by zero encountered in log10\n",
      "  Z = 10. * np.log10(spec)\n",
      "<ipython-input-30-48b37abd0d66>:181: UserWarning: Only one segment is calculated since parameter NFFT (=256) >= signal length (=0).\n",
      "  spec = axs[site_count, 1].specgram(filtered_samples, Fs=1/9.142e-6, cmap ='rainbow' ,vmin=-100, vmax=0)\n",
      "c:\\Users\\ojhan\\anaconda3\\lib\\site-packages\\matplotlib\\axes\\_axes.py:7592: RuntimeWarning: divide by zero encountered in log10\n",
      "  Z = 10. * np.log10(spec)\n"
     ]
    },
    {
     "name": "stdout",
     "output_type": "stream",
     "text": [
      "Saving figure: Spectograms\\2023-01-31T000112\\1000 milliseconds2023-01-31T000122.png\n",
      "Processing: 2023-01-31T00:01:23.000\n"
     ]
    },
    {
     "name": "stderr",
     "output_type": "stream",
     "text": [
      "<ipython-input-30-48b37abd0d66>:181: UserWarning: Only one segment is calculated since parameter NFFT (=256) >= signal length (=0).\n",
      "  spec = axs[site_count, 1].specgram(filtered_samples, Fs=1/9.142e-6, cmap ='rainbow' ,vmin=-100, vmax=0)\n",
      "c:\\Users\\ojhan\\anaconda3\\lib\\site-packages\\matplotlib\\axes\\_axes.py:7592: RuntimeWarning: divide by zero encountered in log10\n",
      "  Z = 10. * np.log10(spec)\n",
      "<ipython-input-30-48b37abd0d66>:181: UserWarning: Only one segment is calculated since parameter NFFT (=256) >= signal length (=0).\n",
      "  spec = axs[site_count, 1].specgram(filtered_samples, Fs=1/9.142e-6, cmap ='rainbow' ,vmin=-100, vmax=0)\n",
      "c:\\Users\\ojhan\\anaconda3\\lib\\site-packages\\matplotlib\\axes\\_axes.py:7592: RuntimeWarning: divide by zero encountered in log10\n",
      "  Z = 10. * np.log10(spec)\n",
      "<ipython-input-30-48b37abd0d66>:181: UserWarning: Only one segment is calculated since parameter NFFT (=256) >= signal length (=0).\n",
      "  spec = axs[site_count, 1].specgram(filtered_samples, Fs=1/9.142e-6, cmap ='rainbow' ,vmin=-100, vmax=0)\n",
      "c:\\Users\\ojhan\\anaconda3\\lib\\site-packages\\matplotlib\\axes\\_axes.py:7592: RuntimeWarning: divide by zero encountered in log10\n",
      "  Z = 10. * np.log10(spec)\n"
     ]
    },
    {
     "name": "stdout",
     "output_type": "stream",
     "text": [
      "Saving figure: Spectograms\\2023-01-31T000112\\1000 milliseconds2023-01-31T000123.png\n",
      "Reading: C:\\\\Users\\\\ojhan\\\\OneDrive\\\\Documents\\\\PhysicsProject\\\\03-01-2024\\Akrotiri_569218Q0B0024002A.202401032347.npy\n",
      "Reading: C:\\\\Users\\\\ojhan\\\\OneDrive\\\\Documents\\\\PhysicsProject\\\\03-01-2024\\Akrotiri_569218Q0B0024002A.202401032348.npy\n",
      "Reading: C:\\\\Users\\\\ojhan\\\\OneDrive\\\\Documents\\\\PhysicsProject\\\\03-01-2024\\Akrotiri_569218Q0B0024002A.202401032349.npy\n",
      "Reading: C:\\\\Users\\\\ojhan\\\\OneDrive\\\\Documents\\\\PhysicsProject\\\\03-01-2024\\Akrotiri_569218Q0B0024002A.202401032350.npy\n",
      "Reading: C:\\\\Users\\\\ojhan\\\\OneDrive\\\\Documents\\\\PhysicsProject\\\\03-01-2024\\Akrotiri_569218Q0B0024002A.202401032351.npy\n",
      "Reading: C:\\\\Users\\\\ojhan\\\\OneDrive\\\\Documents\\\\PhysicsProject\\\\03-01-2024\\Akrotiri_569218Q0B0024002A.202401032352.npy\n",
      "Reading: C:\\\\Users\\\\ojhan\\\\OneDrive\\\\Documents\\\\PhysicsProject\\\\03-01-2024\\Akrotiri_569218Q0B0024002A.202401032353.npy\n",
      "Reading: C:\\\\Users\\\\ojhan\\\\OneDrive\\\\Documents\\\\PhysicsProject\\\\03-01-2024\\Akrotiri_569218Q0B0024002A.202401032354.npy\n",
      "Reading: C:\\\\Users\\\\ojhan\\\\OneDrive\\\\Documents\\\\PhysicsProject\\\\03-01-2024\\Akrotiri_569218Q0B0024002A.202401032355.npy\n",
      "Reading: C:\\\\Users\\\\ojhan\\\\OneDrive\\\\Documents\\\\PhysicsProject\\\\03-01-2024\\Akrotiri_569218Q0B0024002A.202401032356.npy\n",
      "Reading: C:\\\\Users\\\\ojhan\\\\OneDrive\\\\Documents\\\\PhysicsProject\\\\03-01-2024\\Cabauw_569218Q0B003D003E.202401032347.npy\n",
      "Reading: C:\\\\Users\\\\ojhan\\\\OneDrive\\\\Documents\\\\PhysicsProject\\\\03-01-2024\\Cabauw_569218Q0B003D003E.202401032348.npy\n",
      "Reading: C:\\\\Users\\\\ojhan\\\\OneDrive\\\\Documents\\\\PhysicsProject\\\\03-01-2024\\Cabauw_569218Q0B003D003E.202401032349.npy\n",
      "Reading: C:\\\\Users\\\\ojhan\\\\OneDrive\\\\Documents\\\\PhysicsProject\\\\03-01-2024\\Cabauw_569218Q0B003D003E.202401032350.npy\n",
      "Reading: C:\\\\Users\\\\ojhan\\\\OneDrive\\\\Documents\\\\PhysicsProject\\\\03-01-2024\\Cabauw_569218Q0B003D003E.202401032351.npy\n",
      "Reading: C:\\\\Users\\\\ojhan\\\\OneDrive\\\\Documents\\\\PhysicsProject\\\\03-01-2024\\Cabauw_569218Q0B003D003E.202401032352.npy\n",
      "Reading: C:\\\\Users\\\\ojhan\\\\OneDrive\\\\Documents\\\\PhysicsProject\\\\03-01-2024\\Cabauw_569218Q0B003D003E.202401032353.npy\n",
      "Reading: C:\\\\Users\\\\ojhan\\\\OneDrive\\\\Documents\\\\PhysicsProject\\\\03-01-2024\\Cabauw_569218Q0B003D003E.202401032354.npy\n",
      "Reading: C:\\\\Users\\\\ojhan\\\\OneDrive\\\\Documents\\\\PhysicsProject\\\\03-01-2024\\Cabauw_569218Q0B003D003E.202401032355.npy\n",
      "Reading: C:\\\\Users\\\\ojhan\\\\OneDrive\\\\Documents\\\\PhysicsProject\\\\03-01-2024\\Cabauw_569218Q0B003D003E.202401032356.npy\n",
      "Reading: C:\\\\Users\\\\ojhan\\\\OneDrive\\\\Documents\\\\PhysicsProject\\\\03-01-2024\\Camborne_569218Q0B0025002A.202401032347.npy\n",
      "Reading: C:\\\\Users\\\\ojhan\\\\OneDrive\\\\Documents\\\\PhysicsProject\\\\03-01-2024\\Camborne_569218Q0B0025002A.202401032348.npy\n",
      "Reading: C:\\\\Users\\\\ojhan\\\\OneDrive\\\\Documents\\\\PhysicsProject\\\\03-01-2024\\Camborne_569218Q0B0025002A.202401032349.npy\n",
      "Reading: C:\\\\Users\\\\ojhan\\\\OneDrive\\\\Documents\\\\PhysicsProject\\\\03-01-2024\\Camborne_569218Q0B0025002A.202401032350.npy\n",
      "Reading: C:\\\\Users\\\\ojhan\\\\OneDrive\\\\Documents\\\\PhysicsProject\\\\03-01-2024\\Camborne_569218Q0B0025002A.202401032351.npy\n",
      "Reading: C:\\\\Users\\\\ojhan\\\\OneDrive\\\\Documents\\\\PhysicsProject\\\\03-01-2024\\Camborne_569218Q0B0025002A.202401032352.npy\n",
      "Reading: C:\\\\Users\\\\ojhan\\\\OneDrive\\\\Documents\\\\PhysicsProject\\\\03-01-2024\\Camborne_569218Q0B0025002A.202401032353.npy\n",
      "Reading: C:\\\\Users\\\\ojhan\\\\OneDrive\\\\Documents\\\\PhysicsProject\\\\03-01-2024\\Camborne_569218Q0B0025002A.202401032354.npy\n",
      "Reading: C:\\\\Users\\\\ojhan\\\\OneDrive\\\\Documents\\\\PhysicsProject\\\\03-01-2024\\Camborne_569218Q0B0025002A.202401032355.npy\n",
      "Reading: C:\\\\Users\\\\ojhan\\\\OneDrive\\\\Documents\\\\PhysicsProject\\\\03-01-2024\\Camborne_569218Q0B0025002A.202401032356.npy\n",
      "Reading: C:\\\\Users\\\\ojhan\\\\OneDrive\\\\Documents\\\\PhysicsProject\\\\03-01-2024\\Keflavik_569218Q0B0027003E.202401032347.npy\n",
      "Reading: C:\\\\Users\\\\ojhan\\\\OneDrive\\\\Documents\\\\PhysicsProject\\\\03-01-2024\\Keflavik_569218Q0B0027003E.202401032348.npy\n",
      "Reading: C:\\\\Users\\\\ojhan\\\\OneDrive\\\\Documents\\\\PhysicsProject\\\\03-01-2024\\Keflavik_569218Q0B0027003E.202401032349.npy\n",
      "Reading: C:\\\\Users\\\\ojhan\\\\OneDrive\\\\Documents\\\\PhysicsProject\\\\03-01-2024\\Keflavik_569218Q0B0027003E.202401032350.npy\n",
      "Reading: C:\\\\Users\\\\ojhan\\\\OneDrive\\\\Documents\\\\PhysicsProject\\\\03-01-2024\\Keflavik_569218Q0B0027003E.202401032351.npy\n",
      "Reading: C:\\\\Users\\\\ojhan\\\\OneDrive\\\\Documents\\\\PhysicsProject\\\\03-01-2024\\Keflavik_569218Q0B0027003E.202401032352.npy\n",
      "Reading: C:\\\\Users\\\\ojhan\\\\OneDrive\\\\Documents\\\\PhysicsProject\\\\03-01-2024\\Keflavik_569218Q0B0027003E.202401032353.npy\n",
      "Reading: C:\\\\Users\\\\ojhan\\\\OneDrive\\\\Documents\\\\PhysicsProject\\\\03-01-2024\\Keflavik_569218Q0B0027003E.202401032354.npy\n",
      "Reading: C:\\\\Users\\\\ojhan\\\\OneDrive\\\\Documents\\\\PhysicsProject\\\\03-01-2024\\Keflavik_569218Q0B0027003E.202401032355.npy\n",
      "Reading: C:\\\\Users\\\\ojhan\\\\OneDrive\\\\Documents\\\\PhysicsProject\\\\03-01-2024\\Keflavik_569218Q0B0027003E.202401032356.npy\n",
      "Reading: C:\\\\Users\\\\ojhan\\\\OneDrive\\\\Documents\\\\PhysicsProject\\\\03-01-2024\\Lerwick_569218Q0B0019002A.202401032347.npy\n",
      "Reading: C:\\\\Users\\\\ojhan\\\\OneDrive\\\\Documents\\\\PhysicsProject\\\\03-01-2024\\Lerwick_569218Q0B0019002A.202401032348.npy\n",
      "Reading: C:\\\\Users\\\\ojhan\\\\OneDrive\\\\Documents\\\\PhysicsProject\\\\03-01-2024\\Lerwick_569218Q0B0019002A.202401032349.npy\n",
      "Reading: C:\\\\Users\\\\ojhan\\\\OneDrive\\\\Documents\\\\PhysicsProject\\\\03-01-2024\\Lerwick_569218Q0B0019002A.202401032350.npy\n",
      "Reading: C:\\\\Users\\\\ojhan\\\\OneDrive\\\\Documents\\\\PhysicsProject\\\\03-01-2024\\Lerwick_569218Q0B0019002A.202401032351.npy\n",
      "Reading: C:\\\\Users\\\\ojhan\\\\OneDrive\\\\Documents\\\\PhysicsProject\\\\03-01-2024\\Lerwick_569218Q0B0019002A.202401032352.npy\n",
      "Reading: C:\\\\Users\\\\ojhan\\\\OneDrive\\\\Documents\\\\PhysicsProject\\\\03-01-2024\\Lerwick_569218Q0B0019002A.202401032353.npy\n",
      "Reading: C:\\\\Users\\\\ojhan\\\\OneDrive\\\\Documents\\\\PhysicsProject\\\\03-01-2024\\Lerwick_569218Q0B0019002A.202401032354.npy\n",
      "Reading: C:\\\\Users\\\\ojhan\\\\OneDrive\\\\Documents\\\\PhysicsProject\\\\03-01-2024\\Lerwick_569218Q0B0019002A.202401032355.npy\n",
      "Reading: C:\\\\Users\\\\ojhan\\\\OneDrive\\\\Documents\\\\PhysicsProject\\\\03-01-2024\\Lerwick_569218Q0B0019002A.202401032356.npy\n",
      "Reading: C:\\\\Users\\\\ojhan\\\\OneDrive\\\\Documents\\\\PhysicsProject\\\\03-01-2024\\Herstmonceux_569218Q0B003D002A.202401032347.npy\n",
      "Reading: C:\\\\Users\\\\ojhan\\\\OneDrive\\\\Documents\\\\PhysicsProject\\\\03-01-2024\\Herstmonceux_569218Q0B003D002A.202401032348.npy\n",
      "Reading: C:\\\\Users\\\\ojhan\\\\OneDrive\\\\Documents\\\\PhysicsProject\\\\03-01-2024\\Herstmonceux_569218Q0B003D002A.202401032349.npy\n",
      "Reading: C:\\\\Users\\\\ojhan\\\\OneDrive\\\\Documents\\\\PhysicsProject\\\\03-01-2024\\Herstmonceux_569218Q0B003D002A.202401032350.npy\n",
      "Reading: C:\\\\Users\\\\ojhan\\\\OneDrive\\\\Documents\\\\PhysicsProject\\\\03-01-2024\\Herstmonceux_569218Q0B003D002A.202401032351.npy\n",
      "Reading: C:\\\\Users\\\\ojhan\\\\OneDrive\\\\Documents\\\\PhysicsProject\\\\03-01-2024\\Herstmonceux_569218Q0B003D002A.202401032352.npy\n",
      "Reading: C:\\\\Users\\\\ojhan\\\\OneDrive\\\\Documents\\\\PhysicsProject\\\\03-01-2024\\Herstmonceux_569218Q0B003D002A.202401032353.npy\n",
      "Reading: C:\\\\Users\\\\ojhan\\\\OneDrive\\\\Documents\\\\PhysicsProject\\\\03-01-2024\\Herstmonceux_569218Q0B003D002A.202401032354.npy\n",
      "Reading: C:\\\\Users\\\\ojhan\\\\OneDrive\\\\Documents\\\\PhysicsProject\\\\03-01-2024\\Herstmonceux_569218Q0B003D002A.202401032355.npy\n",
      "Reading: C:\\\\Users\\\\ojhan\\\\OneDrive\\\\Documents\\\\PhysicsProject\\\\03-01-2024\\Herstmonceux_569218Q0B003D002A.202401032356.npy\n",
      "Reading: C:\\\\Users\\\\ojhan\\\\OneDrive\\\\Documents\\\\PhysicsProject\\\\03-01-2024\\Tartu_569218Q0B0036003F.202401032347.npy\n",
      "Reading: C:\\\\Users\\\\ojhan\\\\OneDrive\\\\Documents\\\\PhysicsProject\\\\03-01-2024\\Tartu_569218Q0B0036003F.202401032348.npy\n",
      "Reading: C:\\\\Users\\\\ojhan\\\\OneDrive\\\\Documents\\\\PhysicsProject\\\\03-01-2024\\Tartu_569218Q0B0036003F.202401032349.npy\n",
      "Reading: C:\\\\Users\\\\ojhan\\\\OneDrive\\\\Documents\\\\PhysicsProject\\\\03-01-2024\\Tartu_569218Q0B0036003F.202401032350.npy\n",
      "Reading: C:\\\\Users\\\\ojhan\\\\OneDrive\\\\Documents\\\\PhysicsProject\\\\03-01-2024\\Tartu_569218Q0B0036003F.202401032351.npy\n",
      "Reading: C:\\\\Users\\\\ojhan\\\\OneDrive\\\\Documents\\\\PhysicsProject\\\\03-01-2024\\Tartu_569218Q0B0036003F.202401032352.npy\n",
      "Reading: C:\\\\Users\\\\ojhan\\\\OneDrive\\\\Documents\\\\PhysicsProject\\\\03-01-2024\\Tartu_569218Q0B0036003F.202401032353.npy\n",
      "Reading: C:\\\\Users\\\\ojhan\\\\OneDrive\\\\Documents\\\\PhysicsProject\\\\03-01-2024\\Tartu_569218Q0B0036003F.202401032354.npy\n",
      "Reading: C:\\\\Users\\\\ojhan\\\\OneDrive\\\\Documents\\\\PhysicsProject\\\\03-01-2024\\Tartu_569218Q0B0036003F.202401032355.npy\n",
      "Reading: C:\\\\Users\\\\ojhan\\\\OneDrive\\\\Documents\\\\PhysicsProject\\\\03-01-2024\\Tartu_569218Q0B0036003F.202401032356.npy\n",
      "Reading: C:\\\\Users\\\\ojhan\\\\OneDrive\\\\Documents\\\\PhysicsProject\\\\03-01-2024\\Valentia_569218Q0B0023002A.202401032347.npy\n",
      "Reading: C:\\\\Users\\\\ojhan\\\\OneDrive\\\\Documents\\\\PhysicsProject\\\\03-01-2024\\Valentia_569218Q0B0023002A.202401032348.npy\n",
      "Reading: C:\\\\Users\\\\ojhan\\\\OneDrive\\\\Documents\\\\PhysicsProject\\\\03-01-2024\\Valentia_569218Q0B0023002A.202401032349.npy\n",
      "Reading: C:\\\\Users\\\\ojhan\\\\OneDrive\\\\Documents\\\\PhysicsProject\\\\03-01-2024\\Valentia_569218Q0B0023002A.202401032350.npy\n",
      "Reading: C:\\\\Users\\\\ojhan\\\\OneDrive\\\\Documents\\\\PhysicsProject\\\\03-01-2024\\Valentia_569218Q0B0023002A.202401032351.npy\n",
      "Reading: C:\\\\Users\\\\ojhan\\\\OneDrive\\\\Documents\\\\PhysicsProject\\\\03-01-2024\\Valentia_569218Q0B0023002A.202401032352.npy\n",
      "Reading: C:\\\\Users\\\\ojhan\\\\OneDrive\\\\Documents\\\\PhysicsProject\\\\03-01-2024\\Valentia_569218Q0B0023002A.202401032353.npy\n",
      "Reading: C:\\\\Users\\\\ojhan\\\\OneDrive\\\\Documents\\\\PhysicsProject\\\\03-01-2024\\Valentia_569218Q0B0023002A.202401032354.npy\n",
      "Reading: C:\\\\Users\\\\ojhan\\\\OneDrive\\\\Documents\\\\PhysicsProject\\\\03-01-2024\\Valentia_569218Q0B0023002A.202401032355.npy\n",
      "Reading: C:\\\\Users\\\\ojhan\\\\OneDrive\\\\Documents\\\\PhysicsProject\\\\03-01-2024\\Valentia_569218Q0B0023002A.202401032356.npy\n",
      "Reading: C:\\\\Users\\\\ojhan\\\\OneDrive\\\\Documents\\\\PhysicsProject\\\\03-01-2024\\Watnall_569218Q0B001D0029.202401032347.npy\n",
      "Reading: C:\\\\Users\\\\ojhan\\\\OneDrive\\\\Documents\\\\PhysicsProject\\\\03-01-2024\\Watnall_569218Q0B001D0029.202401032348.npy\n",
      "Reading: C:\\\\Users\\\\ojhan\\\\OneDrive\\\\Documents\\\\PhysicsProject\\\\03-01-2024\\Watnall_569218Q0B001D0029.202401032349.npy\n",
      "Reading: C:\\\\Users\\\\ojhan\\\\OneDrive\\\\Documents\\\\PhysicsProject\\\\03-01-2024\\Watnall_569218Q0B001D0029.202401032350.npy\n",
      "Reading: C:\\\\Users\\\\ojhan\\\\OneDrive\\\\Documents\\\\PhysicsProject\\\\03-01-2024\\Watnall_569218Q0B001D0029.202401032351.npy\n",
      "Reading: C:\\\\Users\\\\ojhan\\\\OneDrive\\\\Documents\\\\PhysicsProject\\\\03-01-2024\\Watnall_569218Q0B001D0029.202401032352.npy\n",
      "Reading: C:\\\\Users\\\\ojhan\\\\OneDrive\\\\Documents\\\\PhysicsProject\\\\03-01-2024\\Watnall_569218Q0B001D0029.202401032353.npy\n",
      "Reading: C:\\\\Users\\\\ojhan\\\\OneDrive\\\\Documents\\\\PhysicsProject\\\\03-01-2024\\Watnall_569218Q0B001D0029.202401032354.npy\n",
      "Reading: C:\\\\Users\\\\ojhan\\\\OneDrive\\\\Documents\\\\PhysicsProject\\\\03-01-2024\\Watnall_569218Q0B001D0029.202401032355.npy\n",
      "Reading: C:\\\\Users\\\\ojhan\\\\OneDrive\\\\Documents\\\\PhysicsProject\\\\03-01-2024\\Watnall_569218Q0B001D0029.202401032356.npy\n",
      "data loaded\n",
      "Processing: 2024-01-03T23:50:15.000\n"
     ]
    },
    {
     "name": "stderr",
     "output_type": "stream",
     "text": [
      "<ipython-input-30-48b37abd0d66>:181: UserWarning: Only one segment is calculated since parameter NFFT (=256) >= signal length (=0).\n",
      "  spec = axs[site_count, 1].specgram(filtered_samples, Fs=1/9.142e-6, cmap ='rainbow' ,vmin=-100, vmax=0)\n",
      "c:\\Users\\ojhan\\anaconda3\\lib\\site-packages\\matplotlib\\axes\\_axes.py:7592: RuntimeWarning: divide by zero encountered in log10\n",
      "  Z = 10. * np.log10(spec)\n"
     ]
    },
    {
     "name": "stdout",
     "output_type": "stream",
     "text": [
      "Saving figure: Spectograms\\2024-01-03T235015\\1000 milliseconds2024-01-03T235015.png\n",
      "Processing: 2024-01-03T23:50:16.000\n"
     ]
    },
    {
     "name": "stderr",
     "output_type": "stream",
     "text": [
      "<ipython-input-30-48b37abd0d66>:181: UserWarning: Only one segment is calculated since parameter NFFT (=256) >= signal length (=0).\n",
      "  spec = axs[site_count, 1].specgram(filtered_samples, Fs=1/9.142e-6, cmap ='rainbow' ,vmin=-100, vmax=0)\n",
      "c:\\Users\\ojhan\\anaconda3\\lib\\site-packages\\matplotlib\\axes\\_axes.py:7592: RuntimeWarning: divide by zero encountered in log10\n",
      "  Z = 10. * np.log10(spec)\n"
     ]
    },
    {
     "name": "stdout",
     "output_type": "stream",
     "text": [
      "Saving figure: Spectograms\\2024-01-03T235015\\1000 milliseconds2024-01-03T235016.png\n",
      "Processing: 2024-01-03T23:50:17.000\n"
     ]
    },
    {
     "name": "stderr",
     "output_type": "stream",
     "text": [
      "<ipython-input-30-48b37abd0d66>:181: UserWarning: Only one segment is calculated since parameter NFFT (=256) >= signal length (=0).\n",
      "  spec = axs[site_count, 1].specgram(filtered_samples, Fs=1/9.142e-6, cmap ='rainbow' ,vmin=-100, vmax=0)\n",
      "c:\\Users\\ojhan\\anaconda3\\lib\\site-packages\\matplotlib\\axes\\_axes.py:7592: RuntimeWarning: divide by zero encountered in log10\n",
      "  Z = 10. * np.log10(spec)\n"
     ]
    },
    {
     "name": "stdout",
     "output_type": "stream",
     "text": [
      "Saving figure: Spectograms\\2024-01-03T235015\\1000 milliseconds2024-01-03T235017.png\n",
      "Processing: 2024-01-03T23:50:18.000\n"
     ]
    },
    {
     "name": "stderr",
     "output_type": "stream",
     "text": [
      "<ipython-input-30-48b37abd0d66>:181: UserWarning: Only one segment is calculated since parameter NFFT (=256) >= signal length (=0).\n",
      "  spec = axs[site_count, 1].specgram(filtered_samples, Fs=1/9.142e-6, cmap ='rainbow' ,vmin=-100, vmax=0)\n",
      "c:\\Users\\ojhan\\anaconda3\\lib\\site-packages\\matplotlib\\axes\\_axes.py:7592: RuntimeWarning: divide by zero encountered in log10\n",
      "  Z = 10. * np.log10(spec)\n"
     ]
    },
    {
     "name": "stdout",
     "output_type": "stream",
     "text": [
      "Saving figure: Spectograms\\2024-01-03T235015\\1000 milliseconds2024-01-03T235018.png\n",
      "Processing: 2024-01-03T23:50:19.000\n"
     ]
    },
    {
     "name": "stderr",
     "output_type": "stream",
     "text": [
      "<ipython-input-30-48b37abd0d66>:181: UserWarning: Only one segment is calculated since parameter NFFT (=256) >= signal length (=0).\n",
      "  spec = axs[site_count, 1].specgram(filtered_samples, Fs=1/9.142e-6, cmap ='rainbow' ,vmin=-100, vmax=0)\n",
      "c:\\Users\\ojhan\\anaconda3\\lib\\site-packages\\matplotlib\\axes\\_axes.py:7592: RuntimeWarning: divide by zero encountered in log10\n",
      "  Z = 10. * np.log10(spec)\n"
     ]
    },
    {
     "name": "stdout",
     "output_type": "stream",
     "text": [
      "Saving figure: Spectograms\\2024-01-03T235015\\1000 milliseconds2024-01-03T235019.png\n",
      "Processing: 2024-01-03T23:50:20.000\n"
     ]
    },
    {
     "name": "stderr",
     "output_type": "stream",
     "text": [
      "<ipython-input-30-48b37abd0d66>:181: UserWarning: Only one segment is calculated since parameter NFFT (=256) >= signal length (=0).\n",
      "  spec = axs[site_count, 1].specgram(filtered_samples, Fs=1/9.142e-6, cmap ='rainbow' ,vmin=-100, vmax=0)\n",
      "c:\\Users\\ojhan\\anaconda3\\lib\\site-packages\\matplotlib\\axes\\_axes.py:7592: RuntimeWarning: divide by zero encountered in log10\n",
      "  Z = 10. * np.log10(spec)\n"
     ]
    },
    {
     "name": "stdout",
     "output_type": "stream",
     "text": [
      "Saving figure: Spectograms\\2024-01-03T235015\\1000 milliseconds2024-01-03T235020.png\n",
      "Processing: 2024-01-03T23:50:21.000\n"
     ]
    },
    {
     "name": "stderr",
     "output_type": "stream",
     "text": [
      "<ipython-input-30-48b37abd0d66>:181: UserWarning: Only one segment is calculated since parameter NFFT (=256) >= signal length (=0).\n",
      "  spec = axs[site_count, 1].specgram(filtered_samples, Fs=1/9.142e-6, cmap ='rainbow' ,vmin=-100, vmax=0)\n",
      "c:\\Users\\ojhan\\anaconda3\\lib\\site-packages\\matplotlib\\axes\\_axes.py:7592: RuntimeWarning: divide by zero encountered in log10\n",
      "  Z = 10. * np.log10(spec)\n"
     ]
    },
    {
     "name": "stdout",
     "output_type": "stream",
     "text": [
      "Saving figure: Spectograms\\2024-01-03T235015\\1000 milliseconds2024-01-03T235021.png\n",
      "Processing: 2024-01-03T23:50:22.000\n"
     ]
    },
    {
     "name": "stderr",
     "output_type": "stream",
     "text": [
      "<ipython-input-30-48b37abd0d66>:181: UserWarning: Only one segment is calculated since parameter NFFT (=256) >= signal length (=0).\n",
      "  spec = axs[site_count, 1].specgram(filtered_samples, Fs=1/9.142e-6, cmap ='rainbow' ,vmin=-100, vmax=0)\n",
      "c:\\Users\\ojhan\\anaconda3\\lib\\site-packages\\matplotlib\\axes\\_axes.py:7592: RuntimeWarning: divide by zero encountered in log10\n",
      "  Z = 10. * np.log10(spec)\n"
     ]
    },
    {
     "name": "stdout",
     "output_type": "stream",
     "text": [
      "Saving figure: Spectograms\\2024-01-03T235015\\1000 milliseconds2024-01-03T235022.png\n",
      "Processing: 2024-01-03T23:50:23.000\n"
     ]
    },
    {
     "name": "stderr",
     "output_type": "stream",
     "text": [
      "<ipython-input-30-48b37abd0d66>:181: UserWarning: Only one segment is calculated since parameter NFFT (=256) >= signal length (=0).\n",
      "  spec = axs[site_count, 1].specgram(filtered_samples, Fs=1/9.142e-6, cmap ='rainbow' ,vmin=-100, vmax=0)\n",
      "c:\\Users\\ojhan\\anaconda3\\lib\\site-packages\\matplotlib\\axes\\_axes.py:7592: RuntimeWarning: divide by zero encountered in log10\n",
      "  Z = 10. * np.log10(spec)\n"
     ]
    },
    {
     "name": "stdout",
     "output_type": "stream",
     "text": [
      "Saving figure: Spectograms\\2024-01-03T235015\\1000 milliseconds2024-01-03T235023.png\n",
      "Processing: 2024-01-03T23:50:24.000\n"
     ]
    },
    {
     "name": "stderr",
     "output_type": "stream",
     "text": [
      "<ipython-input-30-48b37abd0d66>:181: UserWarning: Only one segment is calculated since parameter NFFT (=256) >= signal length (=0).\n",
      "  spec = axs[site_count, 1].specgram(filtered_samples, Fs=1/9.142e-6, cmap ='rainbow' ,vmin=-100, vmax=0)\n",
      "c:\\Users\\ojhan\\anaconda3\\lib\\site-packages\\matplotlib\\axes\\_axes.py:7592: RuntimeWarning: divide by zero encountered in log10\n",
      "  Z = 10. * np.log10(spec)\n"
     ]
    },
    {
     "name": "stdout",
     "output_type": "stream",
     "text": [
      "Saving figure: Spectograms\\2024-01-03T235015\\1000 milliseconds2024-01-03T235024.png\n"
     ]
    }
   ],
   "source": [
    "def filter_t_series(t, samples, sos, thresh=np.timedelta64(20000, \"ns\")):\n",
    "    \"\"\"\n",
    "    Filters time series accounting for discontinuities\n",
    "\n",
    "    Parameters\n",
    "    ----------\n",
    "    t : np.array of np.datetime64\n",
    "        time array\n",
    "    samples : np.array of float\n",
    "        samples\n",
    "    sos : filter object\n",
    "        sso filter object\n",
    "    thresh : np.timedelta64, optional\n",
    "        The minimal time gap needed for a discontinuity.\n",
    "        The default is np.timedelta64(20000, \"ns\").\n",
    "\n",
    "    Returns\n",
    "    -------\n",
    "    np.array float\n",
    "        filtered array.\n",
    "\n",
    "    \"\"\"\n",
    "    if len(t) > 0:\n",
    "        dt = np.diff(t)\n",
    "        new_samples = []\n",
    "        current_idx = 0\n",
    "        l1 = np.where(dt > thresh)[0]\n",
    "        l1 = np.hstack((l1, len(samples) - 1))\n",
    "        l1 += 1\n",
    "    \n",
    "        for end_idx in l1:\n",
    "            new_sample_tmp = signal.sosfiltfilt(sos,\n",
    "                                            samples[current_idx:end_idx])\n",
    "    \n",
    "            current_idx = end_idx\n",
    "    \n",
    "            new_samples += list(new_sample_tmp)\n",
    "    \n",
    "        return new_samples\n",
    "    else:\n",
    "        return []\n",
    "\n",
    "\n",
    "def atddict(long, lat, ref):\n",
    "    '''\n",
    "   Finds the Arrival Time Difference between a reference node and each other node\n",
    "    based on an inputted longitude and latitude of a meteorite. Returns a dictionary\n",
    "    with Site as key and ATD as value.\n",
    "    '''\n",
    "    \n",
    "    #start atd dictionary\n",
    "    atd = {}\n",
    "    \n",
    "    #define the speed of light in m/s (can change if we find it is different)\n",
    "    c = 299792458\n",
    "    \n",
    "    # Loop between each node in node_config\n",
    "    for node in node_config:\n",
    "        geod = Geod(ellps='WGS84')\n",
    "        \n",
    "        # Use the geod function to find the dist to the for the node\n",
    "        _, _, dist = geod.inv(node_config[node]['Position']['lon'], node_config[node]['Position']['lat'], long, lat)\n",
    "\n",
    "        # Use the geod function to find the dist to the reference node\n",
    "        _, _, ref_dist = geod.inv(node_config[ref]['Position']['lon'], node_config[ref]['Position']['lat'], long, lat)\n",
    "\n",
    "        # Calculate the time difference\n",
    "        timediff = (dist / c) - (ref_dist / c)\n",
    "\n",
    "        # Add the ATD to the ATD dictionary in ns\n",
    "        atd[node_config[node]['Site']] = np.timedelta64(int(timediff * 1e9),'ns')\n",
    "        \n",
    "        \n",
    "    return atd\n",
    "\n",
    "# Load the node config dictionary this contains information about the nodes\n",
    "# (receivers) position and name\n",
    "prog_start = np.datetime64(\"now\")\n",
    "node_config = np.load(\"node_config_fixed.npy\", allow_pickle=True).item()\n",
    "node_code = {}\n",
    "# LEELA sampling dt\n",
    "dt = np.timedelta64(int(1e9 / 109375), \"ns\")\n",
    "t = np.arange(0, 1024, 1) * dt\n",
    "\n",
    "fireballs = pd.read_excel(\"Fireball_times.xlsx\")\n",
    "\n",
    "for f in range(len(fireballs)):\n",
    "\n",
    "    datadict = {key: {\"time\": [],\n",
    "                  \"waveform\": []} for key in node_config}\n",
    "\n",
    "    fireball = fireballs.iloc[f]\n",
    "\n",
    "    # Set parameter atds to be a dictionary with Watnall as the reference node\n",
    "    atds = atddict(fireball[4],fireball[5],'569218Q0B001D0029')\n",
    "    window_dt = np.timedelta64(1000, \"ms\")\n",
    "    start_time = np.datetime64(fireball[2])\n",
    "    end_time = np.datetime64(fireball[3])\n",
    "\n",
    "\n",
    "    start_datetime = start_time.astype(datetime.datetime)\n",
    "    seconds = start_datetime.second\n",
    "\n",
    "\n",
    "    # Create filter here so only processed once:\n",
    "    lower_f = 3000\n",
    "    upper_f = 14000\n",
    "    sos = signal.butter(10, [lower_f,upper_f], 'bp', fs=1/9142e-9, output='sos')\n",
    "\n",
    "    for key in node_config.keys():\n",
    "\n",
    "        # File path to data files (if have hard drive then: /Volumes/WD_ITP/Bath_VLF_2023_decoded)\n",
    "        folder_path = str(fireball[0])\n",
    "\n",
    "        file_list = glob.glob(folder_path + \"*\" + key + '*' + str(fireball[1]) + '*')\n",
    "\n",
    "        # Code to create a list of all the data for each of the files\n",
    "        for file_path in file_list:\n",
    "            print(\"Reading: \" + file_path)\n",
    "            chunks = np.load(file_path, allow_pickle=True).item()\n",
    "            for chunk in chunks:\n",
    "                datadict[key][\"time\"].append(chunks[chunk][\"starttime\"])\n",
    "                datadict[key][\"waveform\"].append(chunks[chunk][\"wvfmdata\"])\n",
    "\n",
    "    print(\"data loaded\")\n",
    "\n",
    "    study_times = np.arange(start_time, end_time, window_dt)\n",
    "\n",
    "    # Create figure\n",
    "    time_count = 0\n",
    "\n",
    "    for study_time in study_times:\n",
    "        study_time_end = study_time + window_dt\n",
    "\n",
    "        print(\"Processing: \" + study_time.astype(str))\n",
    "        fig, axs = plt.subplots(nrows = 8,ncols = 2,\n",
    "                            figsize=(14, 32),\n",
    "                            sharex=False,\n",
    "                            constrained_layout=True)\n",
    "        \n",
    "        site_count = 0\n",
    "        for site in datadict:\n",
    "            \n",
    "            if (node_config[site][\"Site\"] != 'Dunkeswell') and \\\n",
    "                    (node_config[site][\"Site\"] != 'Payerne') and \\\n",
    "                    (node_config[site][\"Site\"] != 'Keflavik') and \\\n",
    "                    (node_config[site][\"Site\"] != 'Herstmonceux'):\n",
    "\n",
    "                datadict[site][\"time\"] = np.array(datadict[site][\"time\"],\n",
    "                                                dtype=np.datetime64)\n",
    "                l1 = np.where((datadict[site][\"time\"] >= study_time) &\n",
    "                            (datadict[site][\"time\"] <= study_time_end))[0]\n",
    "\n",
    "                samples = np.array([])\n",
    "                time = np.array([], dtype=np.datetime64)\n",
    "\n",
    "                for i in l1:\n",
    "                    samples = np.hstack((samples, datadict[site][\"waveform\"][i]))\n",
    "                    time = np.hstack((time, datadict[site][\"time\"][i] + t))\n",
    "\n",
    "                filtered_samples = np.array(filter_t_series(time,\n",
    "                                                            samples,\n",
    "                                                            sos))\n",
    "\n",
    "                # Plot the time_inc_atd against cleaned_waveform\n",
    "                # You'll need to double check if this next line should be\n",
    "                # time + atds or time - atds\n",
    "                axs[site_count, 0].plot(time - atds[node_config[site][\"Site\"]],\n",
    "                            filtered_samples)\n",
    "                axs[site_count, 0].set_title(node_config[site][\"Site\"])\n",
    "\n",
    "                # Set x and y limits to zoom in\n",
    "                axs[site_count, 0].set_xlim(study_time, study_time_end)\n",
    "                axs[site_count, 0].grid()\n",
    "                if len(filtered_samples) > 0:\n",
    "                    axs[site_count, 0].set_ylim(25 + np.max(filtered_samples),\n",
    "                                    np.min(filtered_samples) - 25)\n",
    "            \n",
    "                \n",
    "                # spectogram making\n",
    "                spec = axs[site_count, 1].specgram(filtered_samples, Fs=1/9.142e-6, cmap ='rainbow' ,vmin=-100, vmax=0)\n",
    "                axs[site_count, 1].set_title('Spectrogram - ' + str(node_config[site]['Site']))\n",
    "                cbar = fig.colorbar(spec[3], ax=axs[1])\n",
    "                cbar.set_label('Intensity')\n",
    "                axs[site_count, 1].set_xlabel('Time')\n",
    "                axs[site_count, 1].set_ylabel(\"Frequency\")\n",
    "                axs[site_count, 1].set_ylim(0,20000)            \n",
    "                \n",
    "                site_count += 1\n",
    "                \n",
    "                \n",
    "        # Save the figure\n",
    "        # Convert study_time to a windows happy filename (i.e no :)\n",
    "        filename_stub = str(node_config[site]['Site']).replace(\":\", \"\")\n",
    "        filename_stub = filename_stub.replace(\".\", \"_\")\n",
    "        #start_datetime = start_time.astype(datetime.datetime)\n",
    "        start_time_stub = str(start_time).replace(\":\", \"\")\n",
    "        start_time_stub = start_time_stub.replace(\".\", \"_\")\n",
    "        \n",
    "        actual_start_time = str(start_time + np.timedelta64(time_count*window_dt, 's')).replace(\":\", \"\")\n",
    "        actual_start_time = actual_start_time.replace(\".\", \"_\")\n",
    "\n",
    "        directory = \"Spectograms\\\\\" + start_time_stub  # Specify your desired folder path\n",
    "        os.makedirs(directory, exist_ok=True)\n",
    "        \n",
    "        save_as = \"Spectograms\\\\\" + start_time_stub + \"\\\\\" + str(window_dt) + actual_start_time + \".png\"\n",
    "        print(\"Saving figure: \" + save_as)\n",
    "        fig.savefig(save_as)\n",
    "        \n",
    "        plt.close(fig)\n",
    "\n",
    "        time_count += 1\n",
    "                    \n",
    "        \n",
    "prog_end = np.datetime64(\"now\")\n",
    "print(\"Seconds 2 run: \" + (prog_end - prog_start).astype(str))"
   ]
  },
  {
   "cell_type": "code",
   "execution_count": null,
   "metadata": {},
   "outputs": [],
   "source": [
    "\n",
    "\n"
   ]
  }
 ],
 "metadata": {
  "kernelspec": {
   "display_name": "Python 3",
   "language": "python",
   "name": "python3"
  },
  "language_info": {
   "codemirror_mode": {
    "name": "ipython",
    "version": 3
   },
   "file_extension": ".py",
   "mimetype": "text/x-python",
   "name": "python",
   "nbconvert_exporter": "python",
   "pygments_lexer": "ipython3",
   "version": "3.8.3"
  }
 },
 "nbformat": 4,
 "nbformat_minor": 4
}
